{
 "cells": [
  {
   "cell_type": "code",
   "execution_count": 25,
   "metadata": {},
   "outputs": [],
   "source": [
    "import pandas as pd\n",
    "import matplotlib.pyplot as plt\n",
    "import seaborn as sns\n",
    "import numpy as np"
   ]
  },
  {
   "cell_type": "code",
   "execution_count": 26,
   "metadata": {},
   "outputs": [],
   "source": [
    "df = pd.read_csv('../data_updated_clustered_kmeans.csv')"
   ]
  },
  {
   "cell_type": "code",
   "execution_count": null,
   "metadata": {},
   "outputs": [],
   "source": [
    "df['cluster'].value_counts()"
   ]
  },
  {
   "cell_type": "markdown",
   "metadata": {},
   "source": [
    "### Análise: Features do Modelo"
   ]
  },
  {
   "cell_type": "code",
   "execution_count": 28,
   "metadata": {},
   "outputs": [],
   "source": [
    "features_encoded = ['faixa-etaria_encoded', 'doenca_relacionadas_encoded', 'tipo_servico_encoded', 'sexo_encoded', 'descricao_servico_sinistro_encoded', 'Valor Pago Sinistro']\n",
    "df_cluster0 = df[df['cluster'] == 0]"
   ]
  },
  {
   "cell_type": "markdown",
   "metadata": {},
   "source": [
    "Para entender como a divisão do _cluster 0_ foi feita, será feita uma relação gráfica entre cada _feature_ dele e comparada com a disposição dos dados gerais dessa mesma _feature_."
   ]
  },
  {
   "cell_type": "markdown",
   "metadata": {},
   "source": [
    "#### Faixa-Etária"
   ]
  },
  {
   "cell_type": "code",
   "execution_count": null,
   "metadata": {},
   "outputs": [],
   "source": [
    "fig, ax = plt.subplots(1, 2, figsize=(20, 7))\n",
    "ax[0].hist(df_cluster0[features_encoded[0]], bins=50)\n",
    "ax[0].set_title('Faixa Etária - Cluster 0')\n",
    "ax[0].set_ylim(0, 20000)\n",
    "ax[1].hist(df[features_encoded[0]], bins=50)\n",
    "ax[1].set_title('Faixa Etária - Geral')\n",
    "ax[1].set_ylim(0, 20000)\n",
    "plt.show()"
   ]
  },
  {
   "cell_type": "markdown",
   "metadata": {},
   "source": [
    "Visualizando os padrões dos dados e comparando os dados gerais, sem dividir os dados, podemos inferir que para o _cluster 0_ a faixa-etária não foi um fator deisivo de divisão, uma vez que teve proporções semelhantes aos dados gerais, e apresentou valores bem distribuídos de faixas-etárias. "
   ]
  },
  {
   "cell_type": "markdown",
   "metadata": {},
   "source": [
    "#### Doenças Relacionadas"
   ]
  },
  {
   "cell_type": "code",
   "execution_count": null,
   "metadata": {},
   "outputs": [],
   "source": [
    "fig, ax = plt.subplots(1, 2, figsize=(20, 7))\n",
    "ax[0].hist(df_cluster0[features_encoded[1]], bins=50)\n",
    "ax[0].set_title('Doenças Relacionadas - Cluster 0')\n",
    "ax[0].set_ylim(0, 90000)\n",
    "ax[1].hist(df[features_encoded[1]], bins=50)\n",
    "ax[1].set_title('Doenças Relacionadas - Geral')\n",
    "ax[1].set_ylim(0, 90000)\n",
    "plt.show()"
   ]
  },
  {
   "cell_type": "code",
   "execution_count": null,
   "metadata": {},
   "outputs": [],
   "source": [
    "df_cluster0[features_encoded[1]].value_counts().head(6)"
   ]
  },
  {
   "cell_type": "markdown",
   "metadata": {},
   "source": [
    "O valor de 220, na coluna 'doenca_relacionada_encoded', que possui 21724 linhas no DataFrame é referente a valores não existentes na coluna 'Doença relacionada', isso acontece pois como essa é uma coluna criada por uma IA generativa com uma taxa de criatividade baixíssima e altamente analítica, logo, caso ela não tenha certeza sobre a relação da descrição do serviço com alguma doença específica a coluna 'Doença relacionada' ficaria em branco. Por fim, pode-se afirmar que o _cluster 0_ agrupou 21 mil linhas que possuiam essa coluna em branco, algo esperado, pois na base de dados principal, os valores inexistentes dessa coluna são de mais de 80 mil."
   ]
  },
  {
   "cell_type": "code",
   "execution_count": null,
   "metadata": {},
   "outputs": [],
   "source": [
    "df_cluster0['Doença relacionada'].value_counts().head(5)"
   ]
  },
  {
   "cell_type": "markdown",
   "metadata": {},
   "source": [
    "Os valores de doenças relacionadas restantes estão majoritariamente divididos entre Dislipidemia com 4000, Infecção Urinária com 400 e outras diversas outras doenças com valores menores."
   ]
  },
  {
   "cell_type": "code",
   "execution_count": null,
   "metadata": {},
   "outputs": [],
   "source": [
    "tipo = df_cluster0[df_cluster0['Doença relacionada'] == 'Dislipidemia']['Tipo de Serviço'].value_counts()\n",
    "desc = df_cluster0[df_cluster0['Doença relacionada'] == 'Dislipidemia']['Descricao Servico Sinistro'].value_counts()\n",
    "\n",
    "print(tipo)\n",
    "print(desc)"
   ]
  },
  {
   "cell_type": "markdown",
   "metadata": {},
   "source": [
    "Pode-se confirmar que os valores associados a doença de Dislipidemia são os valores associados a testes de colesterol, presente nas colunas de descrição. Além disso, na coluna tipo, eles foram categorizados como exames laboratoriais."
   ]
  },
  {
   "cell_type": "markdown",
   "metadata": {},
   "source": [
    "#### Tipo de Serviço Sinistro"
   ]
  },
  {
   "cell_type": "code",
   "execution_count": null,
   "metadata": {},
   "outputs": [],
   "source": [
    "fig, ax = plt.subplots(1, 2, figsize=(20, 7))\n",
    "ax[0].hist(df_cluster0[features_encoded[2]], bins=50)\n",
    "ax[0].set_title('Tipo de Serviço - Cluster 0')\n",
    "ax[0].set_ylim(0, 35000)\n",
    "ax[0].set_xlim(0, 160)\n",
    "ax[1].hist(df[features_encoded[2]], bins=50)\n",
    "ax[1].set_title('Tipo de Serviço - Todos os Clusters')\n",
    "ax[1].set_ylim(0, 35000)\n",
    "ax[1].set_xlim(0, 160)\n",
    "plt.show()"
   ]
  },
  {
   "cell_type": "code",
   "execution_count": null,
   "metadata": {},
   "outputs": [],
   "source": [
    "df_cluster0[features_encoded[2]].value_counts().head(5)"
   ]
  },
  {
   "cell_type": "markdown",
   "metadata": {},
   "source": [
    "- Correção de um erro de grammatical"
   ]
  },
  {
   "cell_type": "code",
   "execution_count": null,
   "metadata": {},
   "outputs": [],
   "source": [
    "df_cluster0['Tipo de Serviço'] = df_cluster0['Tipo de Serviço'].replace('Exame laboratorial', 'Exame Laboratorial')"
   ]
  },
  {
   "cell_type": "code",
   "execution_count": null,
   "metadata": {},
   "outputs": [],
   "source": [
    "df_cluster0['Tipo de Serviço'].value_counts().head(5)"
   ]
  },
  {
   "cell_type": "markdown",
   "metadata": {},
   "source": [
    "Os principais valores de Tipos de serviço que estão no _cluster_ são principalmente de Consulta e Exame Laboratorial. Logo o _cluster 0_ dividiu principalmente, levando em consideração a coluna 'Tipo de Serviço', por tipos de serviço como Consultas genéricas e Exames Laboratoriais, totalizando, mais de dois terços dos dados do _cluster_. "
   ]
  },
  {
   "cell_type": "markdown",
   "metadata": {},
   "source": [
    "#### Sexo"
   ]
  },
  {
   "cell_type": "code",
   "execution_count": null,
   "metadata": {},
   "outputs": [],
   "source": [
    "fig, ax = plt.subplots(1, 2, figsize=(20, 7))\n",
    "ax[0].hist(df_cluster0[features_encoded[3]], bins=50)\n",
    "ax[0].set_title('Sexo - Cluster 0')\n",
    "ax[0].set_ylim(0, 65000)\n",
    "ax[1].hist(df[features_encoded[3]], bins=50)\n",
    "ax[1].set_title('Sexo - Geral')\n",
    "ax[1].set_ylim(0, 65000)\n",
    "plt.show()"
   ]
  },
  {
   "cell_type": "code",
   "execution_count": null,
   "metadata": {},
   "outputs": [],
   "source": [
    "proporcao_sexo_cluster0 = df_cluster0['Sexo Sinistro'].value_counts(normalize=True)\n",
    "proporcao_sexo_geral = df['Sexo Sinistro'].value_counts(normalize=True)\n",
    "\n",
    "print('Proporção de Homens e Mulheres no Cluster 0:')\n",
    "print(proporcao_sexo_cluster0)\n",
    "print('Proporção de Homens e Mulheres no Geral:')\n",
    "print(proporcao_sexo_geral)"
   ]
  },
  {
   "cell_type": "markdown",
   "metadata": {},
   "source": [
    "O sexo está igualmente dividido seguindo a proporção dos dados gerais. Nenhuma divisão que distingua o _cluster_ dos dados gerais."
   ]
  },
  {
   "cell_type": "markdown",
   "metadata": {},
   "source": [
    "#### Descrição Serviço Sinistro"
   ]
  },
  {
   "cell_type": "code",
   "execution_count": null,
   "metadata": {},
   "outputs": [],
   "source": [
    "fig, ax = plt.subplots(1, 2, figsize=(20, 7))\n",
    "ax[0].hist(df_cluster0[features_encoded[4]], bins=50)\n",
    "ax[0].set_title('Descrição Serviço Sinistro - Cluster 0')\n",
    "ax[0].set_ylim(0, 20000)\n",
    "ax[1].hist(df[features_encoded[4]], bins=50)\n",
    "ax[1].set_title('Descrição Serviço Sinistro - Geral')\n",
    "ax[1].set_ylim(0, 20000)\n",
    "plt.show()"
   ]
  },
  {
   "cell_type": "code",
   "execution_count": null,
   "metadata": {},
   "outputs": [],
   "source": [
    "df_cluster0[features_encoded[4]].value_counts().head(7)"
   ]
  },
  {
   "cell_type": "code",
   "execution_count": null,
   "metadata": {},
   "outputs": [],
   "source": [
    "df_cluster0['Descricao Servico Sinistro'].value_counts().head(7)"
   ]
  },
  {
   "cell_type": "markdown",
   "metadata": {},
   "source": [
    "Os principais valores de descrição do serviço foi a maior parcela relacionada a consulta em consultório, algo natural uma vez que esse é o sinistro com maior incidência durante toda a base de dados. Além disso, observa-se que os valores relacionados a colesterol, que somados são mais de 6 mil, são um dado importante nesse cluster, pois somam aproximadamente um quinto dos valores totais da coluna de descrição de serviço."
   ]
  },
  {
   "cell_type": "markdown",
   "metadata": {},
   "source": [
    "- Análise de Despesa Hospitalar"
   ]
  },
  {
   "cell_type": "code",
   "execution_count": null,
   "metadata": {},
   "outputs": [],
   "source": [
    "df_cluster0[df_cluster0['Descricao Servico Sinistro'] == 'DESPESA HOSPITALAR']['Valor Pago Sinistro'].describe()"
   ]
  },
  {
   "cell_type": "code",
   "execution_count": null,
   "metadata": {},
   "outputs": [],
   "source": [
    "soma_hospitalar = df_cluster0[df_cluster0['Descricao Servico Sinistro'] == 'DESPESA HOSPITALAR']['Valor Pago Sinistro'].sum()\n",
    "soma_total = df_cluster0['Valor Pago Sinistro'].sum()\n",
    "proporcao_hospitalar = soma_hospitalar / soma_total\n",
    "proporcao_hospitalar\n"
   ]
  },
  {
   "cell_type": "markdown",
   "metadata": {},
   "source": [
    "Apesar de possuir em sua maioria valores abaixo de 200 reais, esse pequeno grupo de despesas hospitalares, equivalente a 2% do _cluster_, somam um valor de 83% da coluna \"Valor Pago Sinistro\" do _cluster_. Logo, é algo a se pontuar, pois essa categoria de serviços de sinistro somam um valor significativo de custo, apesar de sua quantidade."
   ]
  },
  {
   "cell_type": "markdown",
   "metadata": {},
   "source": [
    "#### Faixas de preço (Valor Pago Sinistro)"
   ]
  },
  {
   "cell_type": "code",
   "execution_count": null,
   "metadata": {},
   "outputs": [],
   "source": [
    "bins = [0, 50, 100, 200, 400, 1000, 5000, 10000, 50000, 100000, 250000]\n",
    "labels = ['0-50', '50-100', '100-200', '200-400', '400-1000', '1000-5000', '5000-10000', '10000-50000', '50000-100000', '100000-250000']\n",
    "\n",
    "df_cluster0['Faixas-de-preco'] = pd.cut(df_cluster0['Valor Pago Sinistro'], bins=bins, labels=labels)\n",
    "df['Faixas-de-preco'] = pd.cut(df['Valor Pago Sinistro'], bins=bins, labels=labels)\n",
    "\n",
    "counts_cluster0 = df_cluster0['Faixas-de-preco'].value_counts(sort=False)\n",
    "counts_df = df['Faixas-de-preco'].value_counts(sort=False)\n",
    "\n",
    "fig, ax = plt.subplots(2, 1, figsize=(20, 14))\n",
    "\n",
    "ax[0].bar(counts_cluster0.index, counts_cluster0.values)\n",
    "ax[0].set_title('Faixas de Preço - Cluster 0')\n",
    "ax[0].set_ylim(0, 60000)\n",
    "\n",
    "ax[1].bar(counts_df.index, counts_df.values)\n",
    "ax[1].set_title('Faixas de Preço - Geral')\n",
    "ax[1].set_ylim(0, 60000)\n",
    "\n",
    "for a in ax:\n",
    "    a.set_xticklabels(labels, rotation=45, ha='right')\n",
    "\n",
    "plt.show()"
   ]
  },
  {
   "cell_type": "markdown",
   "metadata": {},
   "source": [
    "Ao observar os gráficos, pode-se entender que o _cluster_ teve como resultado do agrupamento valores menores de sinistro, mantendo sua maioria entre 0-200 reais, algo que se reflete também nas colunas 'Descrição Serviço Sinistro' e 'Tipo Serviço' pois esse _cluster_ apresenta em sua maioria agrupamentos de serviços com valores/custos mais baixos.\n",
    "\n",
    "Apesar disso, apresentam-se valores de faixas de preço bem mais elevadas, chegando até a faixa de preço mais elevada, de 100000-250000, algo que ocorre pois dentro desse _cluster_ existe a presença de um grupo de utilização de sinsitro de 'DESPESAS HOSPITALARES' que contém um valor muito elevado de custo."
   ]
  },
  {
   "cell_type": "markdown",
   "metadata": {},
   "source": [
    "### Insights"
   ]
  },
  {
   "cell_type": "markdown",
   "metadata": {},
   "source": [
    "- _Insights_ relacionados à exames de colesterol"
   ]
  },
  {
   "cell_type": "code",
   "execution_count": null,
   "metadata": {},
   "outputs": [],
   "source": [
    "copia = df_cluster0.copy()\n",
    "\n",
    "colunas_colesterol = ['COLESEROL TOTAL - PESQUISA E/OU DOSAGEM', \n",
    "                      'COLESTEROL (HDL) - PESQUISA E/OU DOSAGEM', \n",
    "                      'COLESTEROL (LDL) - PESQUISA E/OU DOSAGEM', \n",
    "                      'COLESTEROL (VLDL) - PESQUISA E/OU DOSAGEM']\n",
    "\n",
    "copia.loc[copia['Descricao Servico Sinistro'].isin(colunas_colesterol), 'Tipo de Serviço'] = 'Exame de Colesterol'\n",
    "\n",
    "df_colesterol = copia[copia['Tipo de Serviço'] == 'Exame de Colesterol']\n",
    "\n",
    "copia['Tipo de Serviço'].value_counts().head(5)"
   ]
  },
  {
   "cell_type": "markdown",
   "metadata": {},
   "source": [
    "O exame de colesterol foi algo que se destacou por ser uma infomação específica - diferentemente de outros tipos de serviço mais genéricos como exames laboratoriais, consultas e exames de imagens -, por isso será feita uma análise em cima das colunas que categorizam o tipo de usuário do plano de saúde, contido no _cluster_ que tem esse padrão de uso do plano de saúde. "
   ]
  },
  {
   "cell_type": "code",
   "execution_count": null,
   "metadata": {},
   "outputs": [],
   "source": [
    "sexo_colesterol = df_colesterol['Sexo Sinistro'].value_counts(normalize=True)\n",
    "\n",
    "print('Proporção de Homens e Mulheres nos Exames de Colesterol:')\n",
    "print(sexo_colesterol)\n",
    "print('Proporção de Homens e Mulheres no Cluster 0:')\n",
    "print(proporcao_sexo_cluster0)\n",
    "print('Proporção de Homens e Mulheres no Geral:')\n",
    "print(proporcao_sexo_geral)"
   ]
  },
  {
   "cell_type": "code",
   "execution_count": null,
   "metadata": {},
   "outputs": [],
   "source": [
    "ordem = ['0 a 18 anos', '19 a 23 anos', '24 a 28 anos', '29 a 33 anos', '34 a 38 anos', '39 a 43 anos', '44 a 48 anos', '49 a 53 anos', '54 a 58 anos', '59 anos ou mais']\n",
    "sns.catplot(x='Faixa-Etária Nova Sinistro', kind='count', data=df_colesterol, order=ordem, hue='Sexo Sinistro', width=0.5, height=7, aspect=1.75)\n",
    "plt.ylabel('Quantidade')\n",
    "plt.title('Faixa Etária - Exames de Colesterol')\n",
    "plt.show()"
   ]
  },
  {
   "cell_type": "markdown",
   "metadata": {},
   "source": [
    "Ao visualizar as proporções acima, mostra que existe uma maior tendência de mulheres nos dados em geral, algo que se cumpriu dentro desse _cluster_, como foi pontuado anteriormente, o sexo não foi algo tratado como relevante por esse _cluster_, no geral. Ainda na mesma cédula, pode ser visto também que a proporção de mulheres e homens foi mantida nos exames de colesterol. Apesar disso, dividir o uso de exames de colesterol por faixa-etária e sexo na visualização do gráfico, pode-se ver que em e algumas faixas etárias os valores não são apenas discrepantes, mas também não obrigatoriamente seguem as proporções vistas anteriormente.\n",
    "\n",
    "Dito isso, pode-se afirmar que os valores de faixa-etária de '0-18 anos', e de '59 ou mais' apresentam valores bem acima da média na incidência em exames de colesterol. Além disso, ao observar atentamente a divisão por sexo dessas faixas, pode-se ver que eles não seguem a proporção definida, sendo o inclusive o número de homens de 0-18 anos que frequentaram exames de colesterol maior do que o número de mulheres, algo extremamente imporvável, uma vez que o número de mulheres que fazem exames no geral é aproximadamente o dobro do de homens.\n",
    "\n",
    "Logo, um grupo para se ter em mente são os jovens e idosos com probelmas de colesterol, pois eles apresentam uma incidência maior do que qualquer outra faixa-etária. Além disso, analisando mais a fundo o grupo de jovens (0-18 anos) deve-se atentar e tentar entender o porque de os homens, mesmo estando em menor número nesses conjuntos de dados específicos, apresentarem valores mais significativos de uso de colesterol do que as mulheres.\n"
   ]
  },
  {
   "cell_type": "markdown",
   "metadata": {},
   "source": [
    "### Conclusão"
   ]
  },
  {
   "cell_type": "markdown",
   "metadata": {},
   "source": [
    "Para o desenvolvimento deste _cluster_, diferenças de sexo e faixa etária não foram informações relevantes, pois seguiram a proporção dos gráficos gerais. No entanto, o _cluster_ apresentou divergências significativas em outras _features_, como faixas de preço, descrição de serviço, tipo de serviço e doenças relacionadas. Essas características diferenciam o _cluster 0_ dos dados gerais, e serão analisadas para identificar os elementos mais distintivos.\n",
    "\n",
    "A descrição de serviço se divide principalmente entre consultas genéricas e exames de colesterol e creatinina, o que se reflete nas colunas de tipo de serviço e doença relacionada. O elevado número de valores 'NaN' na coluna de doenças se deve às descrições genéricas de serviço, como consultas, que não especificam uma doença clara. Outro ponto relevante é a presença da doença de dislipidemia, identificada a partir de exames de colesterol, já que está diretamente ligada aos hormônios.\n",
    "\n",
    "Nos exames de colesterol, apesar de a proporção de homens e mulheres ter sido mantida, algumas faixas etárias, como 0 a 18 anos e 59 ou mais, apresentam incidências acima da média. O número de homens de 0 a 18 anos que realizaram exames de colesterol é maior que o de mulheres, um dado incomum, já que a maioria dos exames é realizada por mulheres. Isso sugere que jovens e idosos com problemas de colesterol são grupos relevantes para esse _cluster_, e uma análise mais detalhada sobre o maior uso de exames de colesterol por homens jovens é necessária.\n",
    "\n",
    "Por fim, os valores de sinistro estão concentrados na faixa de 0 a 200 reais, refletindo o uso de serviços mais baratos, como consultas e exames hormonais. Ainda assim, 'DESPESA HOSPITALAR' representou 83% do valor pago em sinistros, apesar de corresponder a apenas 2% das ocorrências.\n"
   ]
  }
 ],
 "metadata": {
  "kernelspec": {
   "display_name": "Python 3",
   "language": "python",
   "name": "python3"
  },
  "language_info": {
   "codemirror_mode": {
    "name": "ipython",
    "version": 3
   },
   "file_extension": ".py",
   "mimetype": "text/x-python",
   "name": "python",
   "nbconvert_exporter": "python",
   "pygments_lexer": "ipython3",
   "version": "3.12.3"
  }
 },
 "nbformat": 4,
 "nbformat_minor": 2
}
