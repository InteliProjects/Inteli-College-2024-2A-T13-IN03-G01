{
 "cells": [
  {
   "cell_type": "code",
   "execution_count": 1,
   "metadata": {},
   "outputs": [],
   "source": [
    "import pandas as pd # pandas\n",
    "import numpy as np # numpy\n",
    "import matplotlib.pyplot as plt  # matplotlib\n",
    "import seaborn as sns  # seaborn"
   ]
  },
  {
   "cell_type": "code",
   "execution_count": null,
   "metadata": {},
   "outputs": [],
   "source": [
    "df = pd.read_csv(\"../data_updated_clustered_kmeans.csv\")\n",
    "df['cluster'].value_counts()"
   ]
  },
  {
   "cell_type": "code",
   "execution_count": 3,
   "metadata": {},
   "outputs": [],
   "source": [
    "features_encoded = ['Faixa-Etária Nova Sinistro', 'Doença relacionada', 'Tipo de Serviço', 'Sexo Sinistro', 'Descricao Servico Sinistro', 'Valor Pago Sinistro']\n",
    "df_cluster3 = df[df['cluster'] == 3]"
   ]
  },
  {
   "cell_type": "markdown",
   "metadata": {},
   "source": [
    "### Features do Modelo"
   ]
  },
  {
   "cell_type": "markdown",
   "metadata": {},
   "source": [
    "#### Valor Pago Sinistro"
   ]
  },
  {
   "cell_type": "markdown",
   "metadata": {},
   "source": [
    "&emsp;Para avaliar o valor pago por sinistro, foram utilizadas estatísticas descritivas a fim de identificar dados relevantes para a análise."
   ]
  },
  {
   "cell_type": "code",
   "execution_count": null,
   "metadata": {},
   "outputs": [],
   "source": [
    "df_cluster3['Valor Pago Sinistro'].describe()"
   ]
  },
  {
   "cell_type": "code",
   "execution_count": null,
   "metadata": {},
   "outputs": [],
   "source": [
    "sns.boxplot(x=df_cluster3['Valor Pago Sinistro'])\n",
    "plt.show()"
   ]
  },
  {
   "cell_type": "markdown",
   "metadata": {},
   "source": [
    "&emsp;As estatísticas descritivas do valor pago por sinistros de saúde indicam uma distribuição assimétrica, com a maioria dos sinistros concentrada em valores baixos. A mediana de R$ 32,00 reflete melhor essa concentração, enquanto a média de R$ 68,04 é elevada pela presença de outliers, como o valor máximo de R$ 11.514,05. O desvio padrão alto (R$ 267,25) confirma a grande variabilidade nos valores pagos. Os quartis mostram que 75% dos sinistros têm custos até R$ 47,40, enquanto poucos casos excepcionalmente altos influenciam a dispersão dos dados."
   ]
  },
  {
   "cell_type": "markdown",
   "metadata": {},
   "source": [
    "#### Faixa Etária Sinistro\n",
    "\n",
    "&emsp;A tabela apresenta a distribuição da variável \"Faixa-Etária Nova Sinistro\", que categoriza os sinistros em diferentes faixas etárias. Essa análise é fundamental para compreender quais grupos etários estão mais envolvidos em sinistros e pode ajudar na formulação de políticas de seguros e estratégias de prevenção."
   ]
  },
  {
   "cell_type": "code",
   "execution_count": null,
   "metadata": {},
   "outputs": [],
   "source": [
    "pd.crosstab(index=df_cluster3['Faixa-Etária Nova Sinistro'], columns='count')"
   ]
  },
  {
   "cell_type": "code",
   "execution_count": null,
   "metadata": {},
   "outputs": [],
   "source": [
    "fig, ax = plt.subplots(1, 2, figsize=(20, 7))\n",
    "ax[0].hist(df_cluster3[features_encoded[0]], bins=25)\n",
    "ax[0].set_title('Faixa Etária - Cluster 3')\n",
    "ax[0].set_ylim(0, 2000)\n",
    "ax[1].hist(df[features_encoded[0]], bins=25)\n",
    "ax[1].set_title('Faixa Etária - Geral')\n",
    "ax[1].set_ylim(0, 20000)\n",
    "\n",
    "for axis in ax:\n",
    "    for tick in axis.get_xticklabels():\n",
    "        tick.set_rotation(45)  # Rotaciona os rótulos em 45 graus\n",
    "        tick.set_ha('right')    # Alinha os rótulos à direita\n",
    "\n",
    "plt.show()"
   ]
  },
  {
   "cell_type": "markdown",
   "metadata": {},
   "source": [
    "&emsp;As faixas etárias \"0 a 18 anos\" e \"34 a 38 anos\" são as mais frequentes, cada uma com 1266 registros. Isso indica que esses grupos têm uma presença significativa entre os sinistros analisados. A faixa etária \"59 anos ou mais\" também apresenta um número considerável de sinistros, com 1181 registros, o que sugere que os idosos estão frequentemente envolvidos em sinistros. Em contraste, as faixas etárias \"24 a 28 anos\" e \"19 a 23 anos\" apresentam as menores frequências, com 320 e 433 registros, respectivamente. Isso pode indicar uma menor incidência de sinistros entre esses jovens adultos."
   ]
  },
  {
   "cell_type": "markdown",
   "metadata": {},
   "source": [
    "#### Sexo\n",
    "\n",
    "&emsp;A tabela apresenta a distribuição do sexo dos sinistros, dividindo os registros entre homens (M) e mulheres (F). Essa análise é importante para entender como as características de gênero podem influenciar a ocorrência de sinistros e pode informar decisões estratégicas em áreas como seguros e saúde pública."
   ]
  },
  {
   "cell_type": "code",
   "execution_count": null,
   "metadata": {},
   "outputs": [],
   "source": [
    "pd.crosstab(index=df_cluster3['Sexo Sinistro'], columns='count')"
   ]
  },
  {
   "cell_type": "code",
   "execution_count": null,
   "metadata": {},
   "outputs": [],
   "source": [
    "fig, ax = plt.subplots(1, 2, figsize=(20, 7))\n",
    "ax[0].hist(df_cluster3[features_encoded[3]], bins=25)\n",
    "ax[0].set_title('Sexo Sinistro - Cluster 5')\n",
    "ax[0].set_ylim(0, 10000)\n",
    "ax[1].hist(df[features_encoded[3]], bins=25)\n",
    "ax[1].set_title('Sexo Sinistro - Geral')\n",
    "ax[1].set_ylim(0, 100000)\n",
    "plt.show()"
   ]
  },
  {
   "cell_type": "markdown",
   "metadata": {},
   "source": [
    "&emsp;A variável \"Sexo Sinistro\" revela que 5282 sinistros são atribuídos a mulheres (F), enquanto 2899 são atribuídos a homens (M). Essa diferença é significativa, com o número de sinistros entre mulheres superando o de homens em cerca de 2383 registros. Para entender a proporção de cada grupo, podemos calcular a frequência relativa. As mulheres representam aproximadamente 64,6% do total de sinistros, enquanto os homens correspondem a cerca de 35,4%."
   ]
  },
  {
   "cell_type": "markdown",
   "metadata": {},
   "source": [
    "#### Doença Relacionada"
   ]
  },
  {
   "cell_type": "code",
   "execution_count": null,
   "metadata": {},
   "outputs": [],
   "source": [
    "df_cluster3[\"Doença relacionada\"].value_counts()"
   ]
  },
  {
   "cell_type": "markdown",
   "metadata": {},
   "source": [
    "&emsp;A análise dos dados de doenças relacionadas a sinistros de saúde revela uma concentração em poucas condições, com algumas doenças ocorrendo com muito mais frequência do que outras. As anemias são a principal causa, com 2045 registros, seguidas por diabetes mellitus (1527) e hepatite B (1260). Doenças hepáticas e doenças cardíacas também aparecem com relevância, mas com frequência significativamente menor (1002 e 366, respectivamente). "
   ]
  },
  {
   "cell_type": "markdown",
   "metadata": {},
   "source": [
    "#### Tipo de serviço"
   ]
  },
  {
   "cell_type": "code",
   "execution_count": null,
   "metadata": {},
   "outputs": [],
   "source": [
    "df_cluster3[\"Tipo de Serviço\"].value_counts()"
   ]
  },
  {
   "cell_type": "markdown",
   "metadata": {},
   "source": [
    "&emsp;A análise dos tipos de serviço relacionados a sinistros de saúde mostra uma predominância esmagadora de exames laboratoriais, que totalizam 7595 registros, representando a grande maioria dos casos. Os demais serviços aparecem em quantidades muito menores, com exames cardiológicos (367) e exames oftalmológicos (52) ocupando as próximas posições, ainda que distantes em frequência. Essa concentração em exames laboratoriais pode refletir a natureza preventiva ou diagnóstica dos atendimentos."
   ]
  },
  {
   "cell_type": "markdown",
   "metadata": {},
   "source": [
    "### Insights"
   ]
  },
  {
   "cell_type": "markdown",
   "metadata": {},
   "source": [
    "#### Diabetes"
   ]
  },
  {
   "cell_type": "markdown",
   "metadata": {},
   "source": [
    "&emsp;Em uma análise inicial, é fundamental compreender o perfil das pessoas que utilizam serviços relacionados a diabetes, que é a segunda doença relacionada mais presente nas ocorrências, incluindo fatores como faixa etária, principais serviços acessados e outros elementos relevantes. Essas informações são essenciais para extrair insights que ajudem a entender profundamente o grupo afetado pelo cluster."
   ]
  },
  {
   "cell_type": "code",
   "execution_count": null,
   "metadata": {},
   "outputs": [],
   "source": [
    "df_diabetes = df_cluster3[df_cluster3[\"Doença relacionada\"] == \"Diabetes mellitus\"]\n",
    "pd.crosstab(index=df_diabetes['Descricao Servico Sinistro'], columns='count')"
   ]
  },
  {
   "cell_type": "markdown",
   "metadata": {},
   "source": [
    "&emsp;Os sinistros de hemoglobina glicada mostram maior demanda pelo exame \"HEMOGLOBINA GLICADA (FRACAO A1C)\", com 834 registros, em comparação com 693 registros para \"HEMOGLOBINA GLICADA (A1 TOTAL)\", destacando a relevância do monitoramento glicêmico."
   ]
  },
  {
   "cell_type": "code",
   "execution_count": null,
   "metadata": {},
   "outputs": [],
   "source": [
    "df_diabetes = df_cluster3[df_cluster3[\"Doença relacionada\"] == \"Diabetes mellitus\"]\n",
    "pd.crosstab(index=df_diabetes['Faixa-Etária Nova Sinistro'], columns='count')"
   ]
  },
  {
   "cell_type": "code",
   "execution_count": null,
   "metadata": {},
   "outputs": [],
   "source": [
    "counts = df_diabetes['Faixa-Etária Nova Sinistro'].value_counts()\n",
    "\n",
    "base_color = '#000c38'\n",
    "\n",
    "colors = [plt.cm.Greens(1.0 - (i*0.7)/len(counts)) for i in range(len(counts))] \n",
    "\n",
    "bars = counts.plot(kind='bar', color=colors, width=0.7)\n",
    "\n",
    "plt.yticks(color=\"#001707\")\n",
    "plt.xticks(rotation=45, color=\"#001707\")\n",
    "\n",
    "plt.grid(True, axis='y', alpha=0.4, color=\"gray\")\n",
    "\n",
    "plt.title('Incidência de sinistros relacionados a diabetes', fontsize=12, color='#001707', pad=10)\n",
    "\n",
    "plt.xlabel('Faixa-etária', fontsize=10, color=\"#001707\")  \n",
    "plt.ylabel('Frequência', fontsize=10, color=\"#001707\")\n",
    "\n",
    "plt.show()"
   ]
  },
  {
   "cell_type": "markdown",
   "metadata": {},
   "source": [
    "&emsp;A análise dos sinistros relacionados a diabetes mostra maior incidência entre idosos (\"59 anos ou mais\", com 326 casos) e crianças/adolescentes (\"0 a 18 anos\", com 204 casos). As faixas intermediárias, como \"34 a 38 anos\" e \"39 a 43 anos\", também têm números expressivos, enquanto jovens adultos (\"19 a 28 anos\") apresentam as menores frequências. Esses dados indicam que o diabetes afeta principalmente idosos e jovens, com impacto relevante em algumas faixas de meia-idade."
   ]
  },
  {
   "cell_type": "code",
   "execution_count": null,
   "metadata": {},
   "outputs": [],
   "source": [
    "sns.boxplot(x=df_diabetes['Valor Pago Sinistro'])\n",
    "plt.show()"
   ]
  },
  {
   "cell_type": "code",
   "execution_count": null,
   "metadata": {},
   "outputs": [],
   "source": [
    "df_diabetes[\"Valor Pago Sinistro\"].describe()"
   ]
  },
  {
   "cell_type": "markdown",
   "metadata": {},
   "source": [
    "&emsp;A análise dos sinistros por diabetes mostra uma média de R$ 32,19 pagos por sinistro, com valores variando de R$ 3,42 a R$ 98,70. A mediana é de R$ 35,92, e a maioria dos sinistros está concentrada entre R$ 16,71 e R$ 42,14, indicando uma distribuição de valores baixos a moderados, sem grandes outliers."
   ]
  },
  {
   "cell_type": "markdown",
   "metadata": {},
   "source": [
    "#### Exames cardiológicos"
   ]
  },
  {
   "cell_type": "markdown",
   "metadata": {},
   "source": [
    "&emsp;Na segunda etapa de análise, é importante avaliar o perfil das pessoas que realizam exames cardiológicos, uma vez que esta é a segundo tipo de serviço mais recorrente nas ocorrências."
   ]
  },
  {
   "cell_type": "code",
   "execution_count": null,
   "metadata": {},
   "outputs": [],
   "source": [
    "df_cardio = df_cluster3[df_cluster3[\"Tipo de Serviço\"] == \"Exame cardiológico\"]\n",
    "pd.crosstab(index=df_cardio['Descricao Servico Sinistro'], columns='count')"
   ]
  },
  {
   "cell_type": "markdown",
   "metadata": {},
   "source": [
    "&emsp;A análise dos sinistros relacionados a ecodopplercardiogramas revela que o \"ECODOPPLERCARDIOGRAMA TRANSTORACICO\" é o mais solicitado, com 362 registros, enquanto o \"ECODOPPLERCARDIOGRAMA COM ESTRESSE FARMACOLOGICO\" teve apenas 4 registros e o \"EST ELETROFIS CARDIACO C/\" apresentou 1 registro."
   ]
  },
  {
   "cell_type": "code",
   "execution_count": null,
   "metadata": {},
   "outputs": [],
   "source": [
    "pd.crosstab(index=df_cardio['Faixa-Etária Nova Sinistro'], columns='count')"
   ]
  },
  {
   "cell_type": "code",
   "execution_count": null,
   "metadata": {},
   "outputs": [],
   "source": [
    "counts = df_cardio['Faixa-Etária Nova Sinistro'].value_counts()\n",
    "\n",
    "base_color = '#000c38'\n",
    "\n",
    "colors = [plt.cm.Greens(1.0 - (i*0.7)/len(counts)) for i in range(len(counts))] \n",
    "\n",
    "bars = counts.plot(kind='bar', color=colors, width=0.7)\n",
    "\n",
    "plt.yticks(color=\"#001707\")\n",
    "plt.xticks(rotation=45, color=\"#001707\")\n",
    "\n",
    "plt.grid(True, axis='y', alpha=0.4, color=\"gray\")\n",
    "\n",
    "plt.title('Incidência de sinistros envolvendo exames cardiológicos', fontsize=12, color='#001707', pad=10)\n",
    "\n",
    "plt.xlabel('Faixa-etária', fontsize=10, color=\"#001707\")  \n",
    "plt.ylabel('Frequência', fontsize=10, color=\"#001707\")\n",
    "\n",
    "plt.show()"
   ]
  },
  {
   "cell_type": "markdown",
   "metadata": {},
   "source": [
    "&emsp;A análise dos sinistros para exames cardiológicos mostra maior incidência entre idosos (\"59 anos ou mais\", com 78 registros) e jovens (\"0 a 18 anos\", com 53 registros). As faixas de meia-idade também têm uma participação relevante, enquanto os adultos jovens (\"19 a 28 anos\") apresentam as menores frequências. Isso indica que exames cardiológicos são mais comuns nos extremos etários e em grupos intermediários."
   ]
  },
  {
   "cell_type": "code",
   "execution_count": null,
   "metadata": {},
   "outputs": [],
   "source": [
    "sns.boxplot(x=df_cardio['Valor Pago Sinistro'])\n",
    "plt.show()"
   ]
  },
  {
   "cell_type": "code",
   "execution_count": null,
   "metadata": {},
   "outputs": [],
   "source": [
    "df_cardio[\"Valor Pago Sinistro\"].describe()"
   ]
  },
  {
   "cell_type": "markdown",
   "metadata": {},
   "source": [
    "&emsp;Os sinistros de exames cardiológicos têm uma média de R$ 303,26, com valores variando de R$ 29,93 a R$ 1.360,00. A maioria dos sinistros está concentrada entre R$ 266,99 e R$ 287,52, com pouca variação significativa, como indicado pelo desvio padrão de R$ 110,27."
   ]
  },
  {
   "cell_type": "markdown",
   "metadata": {},
   "source": [
    "## Conclusão"
   ]
  },
  {
   "cell_type": "markdown",
   "metadata": {},
   "source": [
    "&emsp;A partir das análises realizadas, conclui-se que os sinistros de saúde apresentam uma forte concentração de valores baixos, com poucos casos extremos elevando a média. A maior parte dos sinistros é registrada em faixas etárias jovens e idosas, destacando grupos populacionais com maior necessidade de atendimento. Além disso, as mulheres representam uma proporção maior dos sinistros, com aproximadamente 64,6% do total. As principais causas de sinistro são doenças como anemias e diabetes, enquanto exames laboratoriais dominam os tipos de serviço solicitados, sugerindo uma alta demanda por diagnósticos preventivos e controle de condições crônicas."
   ]
  }
 ],
 "metadata": {
  "kernelspec": {
   "display_name": "Python 3",
   "language": "python",
   "name": "python3"
  },
  "language_info": {
   "codemirror_mode": {
    "name": "ipython",
    "version": 3
   },
   "file_extension": ".py",
   "mimetype": "text/x-python",
   "name": "python",
   "nbconvert_exporter": "python",
   "pygments_lexer": "ipython3",
   "version": "3.12.0"
  }
 },
 "nbformat": 4,
 "nbformat_minor": 2
}
