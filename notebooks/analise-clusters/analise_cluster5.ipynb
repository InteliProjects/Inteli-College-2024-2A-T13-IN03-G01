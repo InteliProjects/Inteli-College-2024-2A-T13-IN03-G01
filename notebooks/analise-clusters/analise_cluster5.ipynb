{
 "cells": [
  {
   "cell_type": "code",
   "execution_count": 183,
   "metadata": {},
   "outputs": [],
   "source": [
    "import pandas as pd\n",
    "import matplotlib.pyplot as plt\n",
    "import seaborn as sns\n",
    "import numpy as np"
   ]
  },
  {
   "cell_type": "code",
   "execution_count": 184,
   "metadata": {},
   "outputs": [],
   "source": [
    "df = pd.read_csv('../data_updated_clustered_kmeans.csv')"
   ]
  },
  {
   "cell_type": "code",
   "execution_count": null,
   "metadata": {},
   "outputs": [],
   "source": [
    "df['cluster'].value_counts()"
   ]
  },
  {
   "cell_type": "code",
   "execution_count": 186,
   "metadata": {},
   "outputs": [],
   "source": [
    "features_encoded = ['faixa-etaria_encoded', 'doenca_relacionadas_encoded', 'tipo_servico_encoded', 'sexo_encoded', 'descricao_servico_sinistro_encoded', 'Valor Pago Sinistro']\n",
    "df_cluster5 = df[df['cluster'] == 5]"
   ]
  },
  {
   "cell_type": "markdown",
   "metadata": {},
   "source": [
    "### Features"
   ]
  },
  {
   "cell_type": "markdown",
   "metadata": {},
   "source": [
    "#### Faixa-etária:"
   ]
  },
  {
   "cell_type": "code",
   "execution_count": null,
   "metadata": {},
   "outputs": [],
   "source": [
    "fig, ax = plt.subplots(1, 2, figsize=(20, 7))\n",
    "ax[0].hist(df_cluster5[features_encoded[0]], bins=50)\n",
    "ax[0].set_title('Faixa Etária - Cluster 5')\n",
    "ax[0].set_ylim(0, 25000)\n",
    "ax[1].hist(df[features_encoded[0]], bins=50)\n",
    "ax[1].set_title('Faixa Etária - Geral')\n",
    "ax[1].set_ylim(0, 20000)\n",
    "plt.show()"
   ]
  },
  {
   "cell_type": "markdown",
   "metadata": {},
   "source": [
    "Visualizando os padrões dos dados e comparando os dados gerais, sem dividir os dados, podemos inferir que para o _cluster 5_ a faixa-etária não foi um fator deisivo de divisão, uma vez que teve proporções semelhantes aos dados gerais, e apresentou valores bem distribuídos de faixas-etárias. "
   ]
  },
  {
   "cell_type": "markdown",
   "metadata": {},
   "source": [
    "#### Doenças Relacionadas"
   ]
  },
  {
   "cell_type": "code",
   "execution_count": null,
   "metadata": {},
   "outputs": [],
   "source": [
    "fig, ax = plt.subplots(1, 2, figsize=(20, 7))\n",
    "ax[0].hist(df_cluster5[features_encoded[1]], bins=50)\n",
    "ax[0].set_title('Doenças Relacionadas - Cluster 5')\n",
    "ax[0].set_ylim(0, 90000)\n",
    "ax[1].hist(df[features_encoded[1]], bins=50)\n",
    "ax[1].set_title('Doenças Relacionadas - Geral')\n",
    "ax[1].set_ylim(0, 90000)"
   ]
  },
  {
   "cell_type": "code",
   "execution_count": null,
   "metadata": {},
   "outputs": [],
   "source": [
    "df_cluster5[features_encoded[1]].value_counts().head(6)"
   ]
  },
  {
   "cell_type": "markdown",
   "metadata": {},
   "source": [
    "&emsp;O valor de 220, na coluna 'doenca_relacionada_encoded', que possui 9912 linhas no DataFrame é referente a valores não existentes na coluna 'Doença relacionada', isso acontece pois como essa é uma coluna criada por uma IA generativa com uma taxa de criatividade baixíssima e altamente analítica, logo, caso ela não tenha certeza sobre a relação da descrição do serviço com alguma doença específica a coluna 'Doença relacionada' ficaria em branco.\n",
    "\n",
    "&emsp;Por fim, pode-se afirmar que o _cluster 5_ agrupou quase 10 mil linhas que possuiam essa coluna em branco, algo esperado, pois na base de dados principal, os valores inexistentes dessa coluna são de mais de 80 mil, mas ainda assim, infeliz, pois o cluster possui aproximadamente 10100 elementos.\n"
   ]
  },
  {
   "cell_type": "code",
   "execution_count": null,
   "metadata": {},
   "outputs": [],
   "source": [
    "df_cluster5['Doença relacionada'].value_counts().head(5)"
   ]
  },
  {
   "cell_type": "markdown",
   "metadata": {},
   "source": [
    "Acima é possível visualizar o nome de todas doenças relacionadas aos seus respectivos códigos que puderam ser observados acima."
   ]
  },
  {
   "cell_type": "markdown",
   "metadata": {},
   "source": [
    "#### Tipo de serviço:"
   ]
  },
  {
   "cell_type": "code",
   "execution_count": null,
   "metadata": {},
   "outputs": [],
   "source": [
    "fig, ax = plt.subplots(1, 2, figsize=(20, 7))\n",
    "ax[0].hist(df_cluster5[features_encoded[2]], bins=50)\n",
    "ax[0].set_title('Tipo de Serviço - Cluster 5')\n",
    "ax[0].set_ylim(0, 35000)\n",
    "ax[0].set_xlim(0, 160)\n",
    "ax[1].hist(df[features_encoded[2]], bins=50)\n",
    "ax[1].set_title('Tipo de Serviço - Todos os Clusters')\n",
    "ax[1].set_ylim(0, 35000)\n",
    "ax[1].set_xlim(0, 160)\n",
    "plt.show()"
   ]
  },
  {
   "cell_type": "code",
   "execution_count": null,
   "metadata": {},
   "outputs": [],
   "source": [
    "df_cluster5[features_encoded[2]].value_counts().head(5)"
   ]
  },
  {
   "cell_type": "code",
   "execution_count": null,
   "metadata": {},
   "outputs": [],
   "source": [
    "df_cluster5['Tipo de Serviço'].value_counts().head(5)"
   ]
  },
  {
   "cell_type": "code",
   "execution_count": null,
   "metadata": {},
   "outputs": [],
   "source": [
    "df_cluster5['Tipo de Serviço'] = df_cluster5['Tipo de Serviço'].replace('Exame laboratorial', 'Exame Laboratorial')"
   ]
  },
  {
   "cell_type": "code",
   "execution_count": null,
   "metadata": {},
   "outputs": [],
   "source": [
    "df_cluster5['Tipo de Serviço'].value_counts().head(5)"
   ]
  },
  {
   "cell_type": "code",
   "execution_count": null,
   "metadata": {},
   "outputs": [],
   "source": [
    "df_cluster5[df_cluster5['Tipo de Serviço'] == 'Exame Laboratorial']['Descricao Servico Sinistro'].value_counts()"
   ]
  },
  {
   "cell_type": "markdown",
   "metadata": {},
   "source": [
    "Acima, podemos ver que a maioria dos exames consiste em exames laboratoriais, que é um tipo de serviço mais caracterizado apenas por testes rotineiros e pesquisas, não há nenhuma doença fortemente relacionada. No entanto, há também muitos exames endoscópicos, contudo, assim como nos exames laboratoriais, não é possível relacionar esse procedimento a uma doença específica, pois existem vários tipos de endoscopia, cada um destinado à análise de diferentes partes do corpo. Outros tipos de serviços que também aparecem são os cirúrgicos, totalizando 112, que são geralmente mais custosos. Além disso, há exames de imagem, que podem ajudar a identificar problemas específicos, e exames cardiológicos, que podem detectar possíveis condições cardíacas."
   ]
  },
  {
   "cell_type": "markdown",
   "metadata": {},
   "source": [
    "#### Sexo:"
   ]
  },
  {
   "cell_type": "code",
   "execution_count": null,
   "metadata": {},
   "outputs": [],
   "source": [
    "fig, ax = plt.subplots(1, 2, figsize=(20, 7))\n",
    "ax[0].hist(df_cluster5[features_encoded[3]], bins=50)\n",
    "ax[0].set_title('Sexo - Cluster 5')\n",
    "ax[0].set_ylim(0, 65000)\n",
    "ax[1].hist(df[features_encoded[3]], bins=50)\n",
    "ax[1].set_title('Sexo - Geral')\n",
    "ax[1].set_ylim(0, 65000)\n",
    "plt.show()"
   ]
  },
  {
   "cell_type": "code",
   "execution_count": null,
   "metadata": {},
   "outputs": [],
   "source": [
    "proporcao_sexo_cluster5 = df_cluster5['Sexo Sinistro'].value_counts(normalize=True)\n",
    "proporcao_sexo_geral = df['Sexo Sinistro'].value_counts(normalize=True)\n",
    "\n",
    "print('Proporção de Homens e Mulheres no Cluster 5:')\n",
    "print(proporcao_sexo_cluster5)\n",
    "print('Proporção de Homens e Mulheres no Geral:')\n",
    "print(proporcao_sexo_geral)"
   ]
  },
  {
   "cell_type": "markdown",
   "metadata": {},
   "source": [
    "Nesse caso, podemos observar uma grande diferença na proporção de mulheres em comparação à dos homens. No entanto, ao analisarmos a proporção geral, não há uma diferença ou separação clara em nosso cluster."
   ]
  },
  {
   "cell_type": "markdown",
   "metadata": {},
   "source": [
    "#### Descrição Serviço Sinistro"
   ]
  },
  {
   "cell_type": "code",
   "execution_count": null,
   "metadata": {},
   "outputs": [],
   "source": [
    "fig, ax = plt.subplots(1, 2, figsize=(20, 7))\n",
    "ax[0].hist(df_cluster5[features_encoded[4]], bins=50)\n",
    "ax[0].set_title('Descrição Serviço Sinistro - Cluster 5')\n",
    "ax[0].set_ylim(0, 20000)\n",
    "ax[1].hist(df[features_encoded[4]], bins=50)\n",
    "ax[1].set_title('Descrição Serviço Sinistro - Geral')\n",
    "ax[1].set_ylim(0, 20000)\n",
    "plt.show()"
   ]
  },
  {
   "cell_type": "code",
   "execution_count": null,
   "metadata": {},
   "outputs": [],
   "source": [
    "df_cluster5[features_encoded[4]].value_counts().head(7)"
   ]
  },
  {
   "cell_type": "code",
   "execution_count": null,
   "metadata": {},
   "outputs": [],
   "source": [
    "df_cluster5['Descricao Servico Sinistro'].value_counts().head(7)"
   ]
  },
  {
   "cell_type": "markdown",
   "metadata": {},
   "source": [
    "Aqui podemos identificar a presença de um padrão, pois a maioria das descrições de serviço está relacionada a dosagens de glicose, insulina, FSH, estradiol, LH e fosfatase alcalina. Isso sugere que, em nosso cluster, a maioria dos serviços está ligada a exames laboratoriais voltados para o monitoramento de rotina."
   ]
  },
  {
   "cell_type": "code",
   "execution_count": null,
   "metadata": {},
   "outputs": [],
   "source": [
    "bins = [0, 50, 100, 200, 400, 1000, 5000, 10000, 50000, 100000, 250000]\n",
    "labels = ['0-50', '50-100', '100-200', '200-400', '400-1000', '1000-5000', '5000-10000', '10000-50000', '50000-100000', '100000-250000']\n",
    "\n",
    "df_cluster5['Faixas-de-preco'] = pd.cut(df_cluster5['Valor Pago Sinistro'], bins=bins, labels=labels)\n",
    "df['Faixas-de-preco'] = pd.cut(df['Valor Pago Sinistro'], bins=bins, labels=labels)\n",
    "\n",
    "counts_cluster5 = df_cluster5['Faixas-de-preco'].value_counts(sort=False)\n",
    "counts_df = df['Faixas-de-preco'].value_counts(sort=False)\n",
    "\n",
    "fig, ax = plt.subplots(2, 1, figsize=(20, 14))\n",
    "\n",
    "ax[0].bar(counts_cluster5.index, counts_cluster5.values)\n",
    "ax[0].set_title('Faixas de Preço - Cluster 5')\n",
    "ax[0].set_ylim(0, 60000)\n",
    "\n",
    "ax[1].bar(counts_df.index, counts_df.values)\n",
    "ax[1].set_title('Faixas de Preço - Geral')\n",
    "ax[1].set_ylim(0, 60000)\n",
    "\n",
    "for a in ax:\n",
    "    a.set_xticklabels(labels, rotation=45, ha='right')\n",
    "\n",
    "plt.show()"
   ]
  },
  {
   "cell_type": "markdown",
   "metadata": {},
   "source": [
    "Ao analisar o gráfico, podemos ver uma quantidade expressiva de faixas de preço relacionadas aos serviços utilizados pelos colaboradores agrupados neste cluster. Observa-se valores em torno de 50 reais, possivelmente associados a exames e aplicações. No entanto, também é possível identificar faixas de preço menos comuns e mais elevadas, variando de 1.000 a 5.000 e de 10.000 a 50.000 reais, o que pode estar relacionado principalmente às cirurgias realizadas, que têm uma presença significativa em nosso cluster."
   ]
  },
  {
   "cell_type": "code",
   "execution_count": null,
   "metadata": {},
   "outputs": [],
   "source": [
    "combination_counts = df_cluster5.groupby(['Doença relacionada', 'Descricao Servico Sinistro', 'Valor Pago Sinistro' ]).size().reset_index(name='counts')\n",
    "combination_counts_sorted = combination_counts.sort_values(by='counts', ascending=False)\n",
    "combination_counts_sorted.head(10)\n"
   ]
  },
  {
   "cell_type": "markdown",
   "metadata": {},
   "source": [
    "A partir da tabela acima, é possível visualizar a relação entre as features Doença relacionada, Descrição Serviço Sinistro e Valor Pago Sinistro. Dessa forma, é possível observar como as descrições estão associadas às respectivas doenças. Além disso, temos uma explicação para os valores baixos presentes em nossos clusters, que ocorre porque os valores desses procedimentos também são baixos."
   ]
  },
  {
   "cell_type": "markdown",
   "metadata": {},
   "source": [
    "### Insights"
   ]
  },
  {
   "cell_type": "markdown",
   "metadata": {},
   "source": [
    "#### Comparação das colunas"
   ]
  },
  {
   "cell_type": "markdown",
   "metadata": {},
   "source": [
    "Antes de forneçer os _insights_ é preciso entender o comportamento das colunas que caracterizam o tipo de usuário, logo será feito um entendimento das colunas de faixa-etária e sexo, em comparação com o _cluster 5_ e os dados gerais."
   ]
  },
  {
   "cell_type": "code",
   "execution_count": null,
   "metadata": {},
   "outputs": [],
   "source": [
    "proporcao_sexo_cluster5 = df_cluster5['Sexo Sinistro'].value_counts(normalize=True)\n",
    "proporcao_sexo_geral = df['Sexo Sinistro'].value_counts(normalize=True)\n",
    "\n",
    "print('Proporção de Homens e Mulheres no Cluster 2:')\n",
    "print(proporcao_sexo_cluster5)\n",
    "print('Proporção de Homens e Mulheres no Geral:')\n",
    "print(proporcao_sexo_geral)"
   ]
  },
  {
   "cell_type": "markdown",
   "metadata": {},
   "source": [
    "Como citado anteriormente, o sexo não foi um fator decisivo no momento de decidir a composição do _cluster 5_. Ainda assim é importante reafirmar essas proporções para futuras comparações afim de adquirir insights."
   ]
  },
  {
   "cell_type": "code",
   "execution_count": null,
   "metadata": {},
   "outputs": [],
   "source": [
    "proporcao_faixa_etaria_cluster5 = df_cluster5['Faixa-Etária Nova Sinistro'].value_counts(normalize=True)\n",
    "proporcao_faixa_etaria_geral = df['Faixa-Etária Nova Sinistro'].value_counts(normalize=True)\n",
    "proporcao_faiza_etaria = proporcao_faixa_etaria_cluster5 / proporcao_faixa_etaria_geral\n",
    "\n",
    "print('Proporção de Faixa Etária Geral X Cluster:')\n",
    "print(proporcao_faiza_etaria)"
   ]
  },
  {
   "cell_type": "markdown",
   "metadata": {},
   "source": [
    "Todos os valores são muito próximos de 1, logo, reafirmando, os valores de faixa-etária não divergem tanto do apresentado nos dados gerais."
   ]
  },
  {
   "cell_type": "markdown",
   "metadata": {},
   "source": [
    "- Entendimento da coluna de descrição de serviço"
   ]
  },
  {
   "cell_type": "markdown",
   "metadata": {},
   "source": [
    "Para melhor entendimento, serão criados agrupamentos de descrições, para que seja análisado o perfil de usuários que fazem a utilização desses conjuntos específicos de serviços. "
   ]
  },
  {
   "cell_type": "code",
   "execution_count": null,
   "metadata": {},
   "outputs": [],
   "source": [
    "df_cluster5['Descricao Servico Sinistro'].value_counts().head(15)"
   ]
  },
  {
   "cell_type": "markdown",
   "metadata": {},
   "source": [
    "Ao ver os serviços mais usados, pode-se afirmar que os principais contém 'PESQUISA E/OU DOSAGEM', que carateriza, possivelmente exames laboratoriais para entendimento de taxas sanguíneas e hormonais do usuário. Para análise deles, serão criados dois principais grupos de exames, hormonais e senguíneos, contendo os principais serviços utilizados no _cluster_."
   ]
  },
  {
   "cell_type": "markdown",
   "metadata": {},
   "source": [
    "#### Exames Sanguíneos"
   ]
  },
  {
   "cell_type": "markdown",
   "metadata": {},
   "source": [
    "- DataFrame de exames sanguíneos"
   ]
  },
  {
   "cell_type": "code",
   "execution_count": 207,
   "metadata": {},
   "outputs": [],
   "source": [
    "copia = df_cluster5.copy()\n",
    "colunas_exames_sanguineo = ['GLICOSE - PESQUISA E/OU DOSAGEM', 'INSULINA - PESQUISA E/OU DOSAGEM',\n",
    "                            'HEMOG C/ CONT PLAQ OU FCS (ERITROGR, LEUCOG, PLAQ)',\n",
    "                            'FOSFATASE ALCALINA - PESQUISA E/OU DOSAGEM']\n",
    "\n",
    "copia.loc[copia['Descricao Servico Sinistro'].isin(colunas_exames_sanguineo), 'Descricao Servico Sinistro'] = 'Exame de Sangue'\n",
    "\n",
    "df_sanguineos = copia[copia['Descricao Servico Sinistro'] == 'Exame de Sangue']"
   ]
  },
  {
   "cell_type": "markdown",
   "metadata": {},
   "source": [
    "- Análise de Sexo"
   ]
  },
  {
   "cell_type": "code",
   "execution_count": null,
   "metadata": {},
   "outputs": [],
   "source": [
    "sexo_sanguineos = df_sanguineos['Sexo Sinistro'].value_counts(normalize=True)\n",
    "\n",
    "print('Proporção de Homens e Mulheres que fizeram exames sanguíneos:')\n",
    "print(sexo_sanguineos)"
   ]
  },
  {
   "cell_type": "markdown",
   "metadata": {},
   "source": [
    "A proporção se segue, por isso, para exames sangúineos não há nenhuma mudança brusca definida por sexo em comparação com o conbjunto de dados definido pelo _cluster_."
   ]
  },
  {
   "cell_type": "markdown",
   "metadata": {},
   "source": [
    "- Análise de faixa-etária"
   ]
  },
  {
   "cell_type": "code",
   "execution_count": null,
   "metadata": {},
   "outputs": [],
   "source": [
    "ordem = ['0 a 18 anos', '19 a 23 anos', '24 a 28 anos', '29 a 33 anos', '34 a 38 anos', '39 a 43 anos', '44 a 48 anos', '49 a 53 anos', '54 a 58 anos', '59 anos ou mais']\n",
    "sns.catplot(x='Faixa-Etária Nova Sinistro', kind='count', data=df_sanguineos, order=ordem, hue='Sexo Sinistro', width=0.5, height=7, aspect=1.75)\n",
    "plt.ylabel('Quantidade')\n",
    "plt.title('Faixa Etária - Exames de Sangue')\n",
    "plt.show()"
   ]
  },
  {
   "cell_type": "markdown",
   "metadata": {},
   "source": [
    "O gráfico mostra a quantidade de exames de sangue realizados por faixa etária e sexo. A primeira observação importante é que, na faixa etária de 0 a 18 anos, tanto homens quanto mulheres realizam um grande número de exames de sangue, sendo os homens mais numerosos nessa categoria, algo considerado anômalo, uma vez que no conjunto de dados em que essa análise está contida, o número de mulheres é superior. Isso pode estar relacionado a fatores como maior atenção à saúde em idades jovens devido a práticas esportivas ou condições de crescimento.\n",
    "\n",
    "Nas faixas etárias seguintes, como de 19 a 33 anos, há uma queda acentuada na quantidade de exames para ambos os sexos, sendo que as mulheres mantêm uma predominância maior sobre os homens, algo natural, uma vez que as mulheres estão em maior quantidade. Esse padrão persiste até a faixa dos 34 a 38 anos, onde as mulheres continuam realizando mais exames de sangue do que os homens, mas existe um pico inesperado das mulheres nessa faixa-etária. Acredita-se que essas faixas em que as mulheres se mostram superior, pode estar relacionado com a tendência maior do público feminino em acompanhar regularmente a saúde pessoal.\n",
    "\n",
    "A partir dos 34 anos, nota-se um aumento expressivo de exames em mulheres em comparação com homens em quase todas as faixas etárias, até os 59 anos ou mais, onde ambos os sexos voltam a se equiparar em número de exames, refletindo um maior cuidado com a saúde à medida que as pessoas envelhecem."
   ]
  },
  {
   "cell_type": "markdown",
   "metadata": {},
   "source": [
    "#### Exames Hormonais"
   ]
  },
  {
   "cell_type": "markdown",
   "metadata": {},
   "source": [
    "- DataDrame de exames hormonais"
   ]
  },
  {
   "cell_type": "code",
   "execution_count": 214,
   "metadata": {},
   "outputs": [],
   "source": [
    "colunas_exames_hormonais = ['INSULINA - PESQUISA E/OU DOSAGEM', 'FOLICULO ESTIMULANTE, HORMONIO (FSH)', 'ESTRADIOL - PESQUISA E/OU DOSAGEM', 'HORMONIO LUTEINIZANTE (LH) - PESQUISA E/OU DOSAGEM']\n",
    "\n",
    "copia.loc[copia['Descricao Servico Sinistro'].isin(colunas_exames_hormonais), 'Descricao Servico Sinistro'] = 'Exames Hormonais'\n",
    "\n",
    "df_hormonais = copia[copia['Descricao Servico Sinistro'] == 'Exames Hormonais']"
   ]
  },
  {
   "cell_type": "markdown",
   "metadata": {},
   "source": [
    "- Análise de Sexo"
   ]
  },
  {
   "cell_type": "code",
   "execution_count": null,
   "metadata": {},
   "outputs": [],
   "source": [
    "sexo_hormonais = df_hormonais['Sexo Sinistro'].value_counts(normalize=True)\n",
    "\n",
    "print('Proporção de Homens e Mulheres que fizeram exames sanguíneos:')\n",
    "print(sexo_hormonais)"
   ]
  },
  {
   "cell_type": "markdown",
   "metadata": {},
   "source": [
    "A tendência do _cluster_ é de já possuir um valor maior feminino, mas ao visualizar a divisão de sexo de pessoas que fazem os exames hormonais, há uma disparidade maior ainda, onde as mulheres possuem aproximadamente 72% das ocorrências. \n",
    "\n",
    "Apesar do valor alto, é algo já esperado em função de diversos fatores. As mulheres já possuem uma maior tendência a ter mais cuidado com a saúde pessoal, principalmente nos cuidados com saúde hormonal e sexual. Além disso, as descrições selecionadas para compor o conjunto chamado de 'Exames Hormonais' são majoritariamente de testes de hormônios femininos."
   ]
  },
  {
   "cell_type": "markdown",
   "metadata": {},
   "source": [
    "- Análise de faixa-etária"
   ]
  },
  {
   "cell_type": "code",
   "execution_count": null,
   "metadata": {},
   "outputs": [],
   "source": [
    "ordem = ['0 a 18 anos', '19 a 23 anos', '24 a 28 anos', '29 a 33 anos', '34 a 38 anos', '39 a 43 anos', '44 a 48 anos', '49 a 53 anos', '54 a 58 anos', '59 anos ou mais']\n",
    "sns.catplot(x='Faixa-Etária Nova Sinistro', kind='count', data=df_hormonais, order=ordem, hue='Sexo Sinistro', width=0.5, height=7, aspect=1.75)\n",
    "plt.ylabel('Quantidade')\n",
    "plt.title('Faixa Etária - Exames Hormonais')\n",
    "plt.show()"
   ]
  },
  {
   "cell_type": "markdown",
   "metadata": {},
   "source": [
    "Este gráfico mostra a quantidade de exames hormonais realizados por faixa etária e sexo. Observa-se uma predominância clara de mulheres em todas as faixas etárias, o que é esperado dado as proporções apresentadas acima.\n",
    "\n",
    "Na faixa etária de 0 a 18 anos, as mulheres apresentam uma quantidade significativamente maior de exames hormonais em comparação aos homens, o que pode estar relacionado ao início da puberdade e ao acompanhamento do desenvolvimento hormonal. Já para os homens, o número de exames é bastante reduzido nesta faixa, o que é esperado, dado que o acompanhamento hormonal em homens jovens é menos frequente. Ainda assim, essa faixa, para os homens apresenta valores mais altos do que as subsequentes, um vez que também contém a puberdade e maior desenvolvimento do corpo.\n",
    "\n",
    "Entre os 19 a 28 anos, as mulheres continuam predominando a realização de exames hormonais, e o número de exames realizados por homens é praticamente insignificante em relação ao total. Esse padrão se mantém ao longo das faixas etárias seguintes, com um aumento de exames principalmente entre os 34 a 53 anos, o que reflete a maior necessidade de acompanhamento hormonal em mulheres durante a idade fértil e menopausa.\n",
    "\n",
    "Nas faixas etárias mais avançadas, a partir dos 54 anos, tanto homens quanto mulheres apresentam uma redução no número de exames hormonais, embora as mulheres continuem realizando mais exames que os homens. Essa diminuição pode ser explicada pela menor necessidade de monitoramento hormonal após a menopausa nas mulheres e pela ausência de necessidades específicas relacionadas aos hormônios em homens mais velhos."
   ]
  },
  {
   "cell_type": "markdown",
   "metadata": {},
   "source": [
    "### Conclusão"
   ]
  },
  {
   "cell_type": "markdown",
   "metadata": {},
   "source": [
    "Nas análises realizadas, buscamos identificar características que diferenciam nosso _cluster_ do padrão geral dos dados. Primeiramente, utilizando as colunas de IA (Doenças relacionada e tipo de serviço) para analisar as descrições de serviços, conseguimos correlacionar as doenças identificadas. Observamos que varizes, lesões de pele e vasculares estão inter-relacionadas devido ao sistema vascular, enquanto a intolerância à lactose aparece de forma isolada. Quanto ao sexo, não houve diferença significativa em relação ao conjunto geral de dados.\n",
    "\n",
    "Em relação à feature \"Descrição Serviço Sinistro\", notamos que há uma correlação nos tipos de serviços usados dentro do _cluster_, sugerindo a possibilidade de criar programas específicos para esses usuários. Entre os serviços laboratoriais, os exames estão interligados por fornecerem informações complementares para avaliar os sistemas endócrino, metabólico e hematológico, como hemograma, glicose, insulina, hormônios reprodutivos (FSH, LH, estradiol) e fosfatase alcalina. Esses exames são essenciais para o diagnóstico e monitoramento de condições como diabetes, distúrbios hormonais e hepáticos.\n",
    "\n",
    "Além disso, ao observar as faixas de preço dos serviços utilizados no _cluster_, verificamos uma predominância de valores em torno de 50 reais, relacionados a exames e aplicações, mas também encontramos valores mais altos, entre 1.000 e 50.000 reais, provavelmente associados a cirurgias, que têm uma presença significativa no _cluster_.\n",
    "\n",
    "Por fim, sobre os _insights_ adquiridos a partir a análise do _cluster 5_, foram principalmente relacionados as doenças hormonais e sanguíneas, que, dentre as possíveis doenças analisadas, foram as que se mais se fizeram presente. A partir das colunas sexo e faixa-etária, foram segmentados os principais tipos de usuário de cada tipo de doença, assim, foi possível de fornecer hipóteses e _insights_ relacionado a cada uma das duas principais doenças. \n"
   ]
  }
 ],
 "metadata": {
  "kernelspec": {
   "display_name": "Python 3",
   "language": "python",
   "name": "python3"
  },
  "language_info": {
   "codemirror_mode": {
    "name": "ipython",
    "version": 3
   },
   "file_extension": ".py",
   "mimetype": "text/x-python",
   "name": "python",
   "nbconvert_exporter": "python",
   "pygments_lexer": "ipython3",
   "version": "3.12.4"
  }
 },
 "nbformat": 4,
 "nbformat_minor": 2
}
