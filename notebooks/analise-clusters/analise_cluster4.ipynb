{
 "cells": [
  {
   "cell_type": "markdown",
   "metadata": {},
   "source": [
    "## Cluster 4"
   ]
  },
  {
   "cell_type": "markdown",
   "metadata": {},
   "source": [
    "- Importar bibliotecas"
   ]
  },
  {
   "cell_type": "code",
   "execution_count": 45,
   "metadata": {},
   "outputs": [],
   "source": [
    "import pandas as pd\n",
    "import matplotlib.pyplot as plt\n",
    "import seaborn as sns\n",
    "import numpy as np"
   ]
  },
  {
   "cell_type": "markdown",
   "metadata": {},
   "source": [
    "- Leitura do _DataFrame_"
   ]
  },
  {
   "cell_type": "code",
   "execution_count": null,
   "metadata": {},
   "outputs": [],
   "source": [
    "# Carregar o dataset\n",
    "df = pd.read_csv('../data_updated_clustered_kmeans.csv')\n",
    "print(df.head())"
   ]
  },
  {
   "cell_type": "code",
   "execution_count": null,
   "metadata": {},
   "outputs": [],
   "source": [
    "# Verificando informações gerais do DataFrame\n",
    "print(df.info())\n",
    "\n",
    "# Checando os valores únicos na coluna 'cluster', são 6 clusters\n",
    "print(df['cluster'].unique())"
   ]
  },
  {
   "cell_type": "markdown",
   "metadata": {},
   "source": [
    "### Filtrando Dados para o Cluster 4"
   ]
  },
  {
   "cell_type": "markdown",
   "metadata": {},
   "source": [
    "- Filtrando o DataFrame para obter apenas os dados do cluster 4"
   ]
  },
  {
   "cell_type": "code",
   "execution_count": null,
   "metadata": {},
   "outputs": [],
   "source": [
    "# Filtrando o DataFrame para obter apenas os dados do cluster 4\n",
    "df_cluster4 = df[df['cluster'] == 4]\n",
    "\n",
    "# Exibindo as primeiras 5 linhas do cluster 4\n",
    "print(df_cluster4.head())"
   ]
  },
  {
   "cell_type": "code",
   "execution_count": null,
   "metadata": {},
   "outputs": [],
   "source": [
    "# Estatísticas descritivas para o cluster 4\n",
    "print(df_cluster4.describe())"
   ]
  },
  {
   "cell_type": "markdown",
   "metadata": {},
   "source": [
    "### Visualizando Dados do Cluster 4"
   ]
  },
  {
   "cell_type": "code",
   "execution_count": null,
   "metadata": {},
   "outputs": [],
   "source": [
    "# Definindo as features a serem analisadas\n",
    "features_encoded = ['faixa-etaria_encoded', 'tipo_servico_encoded']\n",
    "\n",
    "# Plotando histogramas\n",
    "plt.figure(figsize=(15, 5))\n",
    "for i, feature in enumerate(features_encoded):\n",
    "    plt.subplot(1, len(features_encoded), i + 1)\n",
    "    sns.histplot(df_cluster4[feature], bins=30, kde=True)\n",
    "    plt.title(f'Distribuição de {feature} - Cluster 4')\n",
    "    plt.xlabel(feature)\n",
    "    plt.ylabel('Frequência')\n",
    "plt.tight_layout()\n",
    "plt.show()"
   ]
  },
  {
   "cell_type": "code",
   "execution_count": null,
   "metadata": {},
   "outputs": [],
   "source": [
    "# Filtra apenas os dados do Cluster 4\n",
    "df_cluster4 = df[df['cluster'] == 4]\n",
    "\n",
    "# Exibe a contagem de ocorrências para 'faixa-etaria_encoded' no Cluster 4\n",
    "faixa_etaria_contagem_cluster4 = df_cluster4['faixa-etaria_encoded'].value_counts()\n",
    "print(faixa_etaria_contagem_cluster4)\n",
    "\n",
    "# Exibe os valores únicos da coluna original e da coluna codificada no Cluster 4\n",
    "print(df_cluster4[['Faixa-Etária Nova Sinistro', 'faixa-etaria_encoded']].drop_duplicates())"
   ]
  },
  {
   "cell_type": "code",
   "execution_count": null,
   "metadata": {},
   "outputs": [],
   "source": [
    "# Filtrando o DataFrame para o Cluster 4\n",
    "df_cluster4 = df[df['cluster'] == 4]\n",
    "\n",
    "# Value counts para obter a frequência de cada tipo de serviço codificado no Cluster 4\n",
    "value_counts_servicos_cluster4 = df_cluster4['tipo_servico_encoded'].value_counts()\n",
    "\n",
    "# Exibindo os tipos de serviço únicos associados a cada código\n",
    "servicos_unicos_cluster4 = df_cluster4[['Tipo de Serviço', 'tipo_servico_encoded']].drop_duplicates()\n",
    "\n",
    "print(\"Frequência de cada tipo de serviço codificado no Cluster 4:\")\n",
    "print(value_counts_servicos_cluster4)\n",
    "\n",
    "print(\"\\nServiços correspondentes aos códigos:\")\n",
    "print(servicos_unicos_cluster4)"
   ]
  },
  {
   "cell_type": "code",
   "execution_count": null,
   "metadata": {},
   "outputs": [],
   "source": [
    "# Frequência de cada tipo de serviço codificado no Cluster 4\n",
    "frequencias_servicos_cluster4 = {\n",
    "    37: 5041,\n",
    "    22: 3793,\n",
    "    73: 1651,\n",
    "    140: 783,\n",
    "    54: 262,\n",
    "    139: 183,\n",
    "    77: 162,\n",
    "    64: 129,\n",
    "}\n",
    "\n",
    "# Mapeando os códigos para seus respectivos serviços\n",
    "servicos_info = df[df['tipo_servico_encoded'].isin(frequencias_servicos_cluster4.keys())][['Tipo de Serviço', 'tipo_servico_encoded']].drop_duplicates()\n",
    "\n",
    "# Exibindo a frequência e o nome do serviço correspondente\n",
    "for codigo, frequencia in frequencias_servicos_cluster4.items():\n",
    "    nome_servico = servicos_info[servicos_info['tipo_servico_encoded'] == codigo]['Tipo de Serviço'].values[0]\n",
    "    print(f\"Código: {codigo}, Serviço: {nome_servico}, Frequência: {frequencia}\")"
   ]
  },
  {
   "cell_type": "markdown",
   "metadata": {},
   "source": [
    "**1. Distribuição de Faixa Etária (faixa-etaria_encoded) - Cluster 4:**\n",
    " \n",
    "&emsp; A distribuição das faixas etárias no Cluster 4 revela alguns pontos importantes:\n",
    "\n",
    "- **0 a 18 anos (codificado como 0)** é a faixa etária com maior incidência, apresentando aproximadamente 1835 ocorrências. Isso destaca uma alta demanda por serviços de saúde entre jovens e crianças nesse cluster.\n",
    "- **59 anos ou mais (codificado como 9)** segue de perto, com 1697 sinistros, também mostrando uma grande concentração de ocorrências nessa faixa etária, o que é esperado dado o maior uso de serviços de saúde por idosos.\n",
    "- Outras faixas etárias, como **34 a 38 anos (codificado como 4) e 39 a 43 anos (codificado como 5)**, também têm uma representatividade considerável, com aproximadamente 1600 e 1412 sinistros, respectivamente.\n",
    "- As faixas **24 a 28 anos (codificado como 2) e 19 a 23 anos (codificado como 1)** têm uma incidência bem menor, com 452 e 750 sinistros.\n",
    "  \n",
    "&emsp; **Interpretação**: Observa-se que tanto jovens (0 a 18 anos) quanto idosos (59 anos ou mais) têm alta incidência de sinistros no Cluster 4. Isso pode indicar uma alta demanda de serviços de saúde em ambos os extremos etários, com a população jovem possivelmente acessando serviços relacionados a cuidados pediátricos ou acidentes, enquanto a população idosa pode estar lidando com condições crônicas.\n",
    "\n",
    "\n",
    "\n",
    "**2. Distribuição de Tipo de Serviço (tipo_servico_encoded) - Cluster 4:**\n",
    "\n",
    "- O tipo de serviço mais frequente no Cluster 4 é o **\"Exame Laboratorial\"** (codificado como 37), com **5041 sinistros** registrados. \n",
    "\n",
    "- Em segundo lugar, temos a **\"Consulta Médica\"** (codificada como 22), que apresenta uma frequência de **3793 sinistros**.\n",
    "\n",
    "- Outros serviços significativos incluem o **\"Exame Laboratorial\"** (codificado como 73), com **1651 sinistros**, e **\"Terapia Alternativa\"** (codificada como 140), com **783 sinistros**.\n",
    "\n",
    "- Serviços como **\"Exame Audiológico\"** (codificado como 54) e **\"Terapia\"** (codificado como 139) têm frequências menores, com **262** e **183 sinistros**, respectivamente. Além disso, o **\"Exame Oftalmológico\"** (codificado como 77) e o **\"Exame de Composição Corporal\"** (codificado como 64) aparecem com **162** e **129 sinistros**.\n",
    "\n",
    "&emsp; **Interpretação**: A predominância de exames laboratoriais e consultas médicas no Cluster 4 pode indicar um maior foco em diagnósticos e acompanhamento de condições de saúde, possivelmente associadas a um perfil de pacientes que buscam intervenções mais detalhadas. A frequência relativamente menor de serviços como terapia sugere que, embora haja necessidade de apoio psicológico, a demanda por intervenções mais diretas e diagnósticas ainda é predominante. Essa distribuição pode refletir a natureza das condições de saúde tratadas nesse cluster, que pode incluir doenças crônicas ou complexas que exigem monitoramento e avaliação contínuos.\n",
    "\n",
    "**Conclusão Geral**\n",
    "\n",
    "&emsp; O **Cluster 4** é caracterizado por uma predominância de **faixas etárias mais jovens** (com destaque para o grupo de 0 a 18 anos) e a utilização frequente de **exames laboratoriais** e **consultas médicas**. Esses serviços, altamente recorrentes no cluster, indicam que a maior parte dos sinistros está relacionada a diagnósticos e acompanhamento de saúde. Serviços menos frequentes, como **terapias** e **exames específicos** (como audiológicos e oftalmológicos), refletem uma menor demanda por intervenções mais especializadas ou focadas em tratamento. No geral, o cluster parece concentrar pacientes que estão em busca de cuidados de saúde preventivos e diagnósticos, com menor foco em procedimentos complexos, o que sugere um perfil mais generalista em termos de necessidades médicas.\n"
   ]
  },
  {
   "cell_type": "code",
   "execution_count": null,
   "metadata": {},
   "outputs": [],
   "source": [
    "# Análise de variáveis categóricas - Apenas para sexo_encoded\n",
    "categorical_feature = 'sexo_encoded'\n",
    "\n",
    "# Gráfico de barras para variável categórica de gênero\n",
    "plt.figure(figsize=(10, 5))\n",
    "sns.countplot(data=df_cluster4, x=categorical_feature, palette='Blues')\n",
    "plt.title(f'Distribuição de {categorical_feature} - Cluster 4')\n",
    "plt.xlabel(categorical_feature)\n",
    "plt.ylabel('Frequência')\n",
    "\n",
    "plt.tight_layout()\n",
    "plt.show()"
   ]
  },
  {
   "cell_type": "code",
   "execution_count": null,
   "metadata": {},
   "outputs": [],
   "source": [
    "# Exiba os valores únicos das colunas relacionadas ao sexo\n",
    "print(df[['Sexo Sinistro', 'sexo_encoded']].drop_duplicates())\n",
    "\n",
    "# Para descobrir o que o código 1 e o código 0 representam na coluna de sexo\n",
    "sexo_codigo_1 = df[df['sexo_encoded'] == 1]['Sexo Sinistro'].unique()\n",
    "sexo_codigo_0 = df[df['sexo_encoded'] == 0]['Sexo Sinistro'].unique()"
   ]
  },
  {
   "cell_type": "code",
   "execution_count": null,
   "metadata": {},
   "outputs": [],
   "source": [
    "df_cluster4[\"sexo_encoded\"].value_counts(())"
   ]
  },
  {
   "cell_type": "markdown",
   "metadata": {},
   "source": [
    "### Análise da variável **sexo_encoded** - Cluster 4\n",
    "\n",
    "**Distribuição:**\n",
    "- **0 (feminino)**: 7136 ocorrências\n",
    "- **1 (masculino)**: 5138 ocorrências\n",
    "\n",
    "**Interpretação:**\n",
    "\n",
    "- **Maior participação feminina**: A maior parte dos sinistros no Cluster 4 está associada ao sexo feminino, com aproximadamente 7.136 ocorrências, representando uma participação mais significativa do que a masculina.\n",
    "  \n",
    "- **Distribuição relativamente equilibrada**: Apesar da predominância feminina, a diferença entre os gêneros não é extrema, com os homens representando 5.138 ocorrências. Isso sugere que o Cluster 4 tem uma distribuição relativamente balanceada em termos de gênero, embora haja uma ligeira concentração de sinistros entre as mulheres.\n",
    "\n",
    "**Possível explicação:**\n",
    "\n",
    "&emsp; Essa distribuição pode estar relacionada ao tipo de serviços mais utilizados neste cluster, como procedimentos médicos mais invasivos ou tratamentos crônicos. Em certos setores da saúde, como o de exames laboratoriais ou cirurgias vasculares (que predominaram na análise anterior), as mulheres podem ter uma taxa mais alta de utilização desses serviços, refletindo a predominância feminina no cluster.\n",
    "\n",
    "&emsp; Entretanto, a diferença entre os gêneros é relativamente pequena, o que indica que tanto homens quanto mulheres estão quase igualmente representados em termos de sinistros."
   ]
  },
  {
   "cell_type": "markdown",
   "metadata": {},
   "source": [
    "### Comparando com outros _clusters_"
   ]
  },
  {
   "cell_type": "code",
   "execution_count": null,
   "metadata": {},
   "outputs": [],
   "source": [
    "# Boxplot para faixa-etaria_encoded por cluster\n",
    "plt.figure(figsize=(8, 6))\n",
    "sns.boxplot(data=df, x='cluster', y='faixa-etaria_encoded', palette='Set3')\n",
    "plt.title('Boxplot de Faixa Etária por Cluster')\n",
    "plt.xlabel('Cluster')\n",
    "plt.ylabel('Faixa Etária Codificada')\n",
    "plt.show()"
   ]
  },
  {
   "cell_type": "markdown",
   "metadata": {},
   "source": [
    "&emsp; O boxplot de Faixa Etária por Cluster apresenta a distribuição das faixas etárias codificadas em diferentes clusters. Observa-se que o Cluster 0 possui uma distribuição ampla, com faixas etárias variando de 0 (0 a 18 anos) até 8 (54 a 58 anos), sendo que a mediana está próxima de 5 (39 a 43 anos). Isso sugere uma presença significativa de pessoas em todas as faixas etárias, com uma leve predominância de indivíduos de meia-idade. Já o Cluster 1 apresenta a mediana em torno de 6 (44 a 48 anos), indicando uma maior concentração de pessoas de meia-idade, mas ainda com certa variação entre faixas mais jovens e mais velhas.\n",
    "\n",
    "&emsp; No Cluster 2, a faixa etária codificada vai de valores mais jovens até cerca de 8, com a mediana posicionada mais próxima das faixas etárias intermediárias, sugerindo uma ligeira concentração de pessoas entre 44 e 48 anos. O Cluster 3, por outro lado, parece ser mais homogêneo em termos de faixas etárias, com uma menor dispersão e uma mediana em torno de 5, o que indica uma prevalência de pessoas em torno dos 39 a 43 anos.\n",
    "\n",
    "&emsp; O Cluster 4 também apresenta uma distribuição relativamente concentrada em torno de faixas intermediárias, com uma mediana próxima de 5, sugerindo um comportamento semelhante ao Cluster 3. Finalmente, o Cluster 5 tem uma distribuição mais uniforme, mas com uma leve tendência para faixas etárias mais jovens, já que a mediana está um pouco abaixo do valor de 5, indicando uma prevalência de indivíduos entre 34 e 38 anos.\n",
    "\n",
    "&emsp; De forma geral, o boxplot revela que a maioria dos clusters tem uma concentração de indivíduos nas faixas etárias de meia-idade, embora alguns clusters apresentem maior dispersão entre faixas etárias mais jovens e mais velhas."
   ]
  },
  {
   "cell_type": "code",
   "execution_count": null,
   "metadata": {},
   "outputs": [],
   "source": [
    "# Detectando outliers usando quartis\n",
    "Q1 = df_cluster4['valor-pago-sinistro_standardized'].quantile(0.25)\n",
    "Q3 = df_cluster4['valor-pago-sinistro_standardized'].quantile(0.75)\n",
    "IQR = Q3 - Q1\n",
    "outliers = df_cluster4[(df_cluster4['valor-pago-sinistro_standardized'] < Q1 - 1.5 * IQR) | (df_cluster4['valor-pago-sinistro_standardized'] > Q3 + 1.5 * IQR)]\n",
    "print(outliers)"
   ]
  },
  {
   "cell_type": "code",
   "execution_count": null,
   "metadata": {},
   "outputs": [],
   "source": [
    "# Contagem de tipos de doenças relacionadas\n",
    "contagem_doencas = df_cluster4['Doença relacionada'].value_counts()\n",
    "print(contagem_doencas)"
   ]
  },
  {
   "cell_type": "markdown",
   "metadata": {},
   "source": [
    "**Análise dos Dados de Doenças Relacionadas**:\n",
    "\n",
    "A análise dos dados de doenças relacionadas revela informações significativas sobre a prevalência de diferentes condições de saúde. \n",
    "\n",
    "- **Câncer de Próstata** é a doença mais frequente, com **419** registros, indicando uma alta incidência entre os casos analisados.\n",
    "- As **Doenças Autoimunes da Tireoide** e a **Tireoidite de Hashimoto** também se destacam, com **328** e **300** registros, respectivamente, sugerindo uma prevalência significativa de condições autoimunes.\n",
    "\n",
    "Observa-se uma diminuição acentuada no número de registros nas doenças seguintes:\n",
    "- **Doença Celíaca**: **197** registros\n",
    "- **Câncer**: **155** registros\n",
    "- **Síndrome Antifosfolípide**: **127** registros\n",
    "\n",
    "As doenças menos frequentes, como **Artrite Reumatoide** e **Apendicite**, têm apenas **3** registros cada, o que sugere que essas condições podem ser menos relevantes no conjunto de dados.\n",
    "\n",
    "&emsp; Esses dados têm implicações importantes para a saúde pública, uma vez que a alta incidência de câncer e doenças autoimunes pode indicar a necessidade de políticas de saúde focadas na prevenção e tratamento dessas condições. Além disso, a identificação de doenças raras pode ser crucial para a pesquisa e o desenvolvimento de tratamentos adequados.\n",
    "\n",
    "&emsp; É importante considerar que a distribuição desigual de casos pode afetar análises estatísticas e modelos preditivos, sendo necessário utilizar técnicas de balanceamento de dados. A relação entre idade, sexo e tipo de doença também poderia ser explorada para entender melhor o perfil dos pacientes afetados.\n",
    "\n",
    "&emsp; Em conclusão, os dados refletem uma prevalência significativa de certas doenças, especialmente câncer e condições autoimunes, destacando áreas de atenção para futuras intervenções em saúde pública."
   ]
  },
  {
   "cell_type": "code",
   "execution_count": null,
   "metadata": {},
   "outputs": [],
   "source": [
    "# Definir as faixas de preço\n",
    "bins = [0, 200, 400, 600, 800, 1000, 2000, 5000, 10000, 20000, float('inf')]\n",
    "labels = ['0-200', '200-400', '400-600', '600-800', '800-1k', '1k-2k', '2k-5k', '5k-10k', '10k-20k', '20k+']\n",
    "\n",
    "# Criar uma nova coluna 'faixa_preco' apenas para os dados do Cluster 4\n",
    "df_cluster4.loc[:, 'faixa_preco'] = pd.cut(df_cluster4['Valor Pago Sinistro'], bins=bins, labels=labels, right=False)\n",
    "\n",
    "# Contar a quantidade de sinistros por faixa de preço no Cluster 4\n",
    "contagem_faixa_preco_cluster4 = df_cluster4['faixa_preco'].value_counts().sort_index()\n",
    "\n",
    "# Plotar o gráfico de barras para o Cluster 4\n",
    "plt.figure(figsize=(10, 6))\n",
    "sns.barplot(x=contagem_faixa_preco_cluster4.index, y=contagem_faixa_preco_cluster4.values, palette='Blues')\n",
    "plt.title('Contagem de Sinistros por Faixa de Preço - Cluster 4')\n",
    "plt.xlabel('Faixa de Preço')\n",
    "plt.ylabel('Contagem de Sinistros')\n",
    "plt.xticks(rotation=45)\n",
    "plt.ylim(0, contagem_faixa_preco_cluster4.max() + 10)  # Ajustar o limite do eixo y\n",
    "plt.show()"
   ]
  },
  {
   "cell_type": "markdown",
   "metadata": {},
   "source": [
    "&emsp; A análise da contagem de sinistros por faixa de preço no Cluster 4 revela que a maioria dos sinistros está concentrada nas faixas de preço mais baixas. A faixa de 0 a 200 tem uma quantidade esmagadora de sinistros, com mais de 8000 ocorrências, indicando que a maioria dos sinistros nesse cluster envolve valores mais baixos.\n",
    "\n",
    "&emsp; Há uma redução significativa na frequência conforme o valor dos sinistros aumenta. A faixa de 200 a 400 apresenta pouco mais de 1000 sinistros, seguida pela faixa de 400 a 600, com cerca de 2000 sinistros. A partir daí, o número de sinistros em faixas de preço mais altas diminui drasticamente, com as faixas entre 600 e 1000 sendo pouco representadas, e as faixas de 1k a 5k e acima disso com contagens quase insignificantes.\n",
    "\n",
    "&emsp; Isso sugere que os sinistros no Cluster 4, em sua maioria, estão relacionados a eventos de menor custo, e é raro encontrar sinistros de valores mais elevados."
   ]
  },
  {
   "cell_type": "markdown",
   "metadata": {},
   "source": [
    "### Conclusão"
   ]
  },
  {
   "cell_type": "markdown",
   "metadata": {},
   "source": [
    "&emsp; O Cluster 4 se destaca por uma alta demanda por exames laboratoriais e consultas médicas, com ênfase em diagnósticos e acompanhamento contínuo de saúde, principalmente em populações jovens (0 a 18 anos) e idosas. A maioria dos sinistros registrados possui valores baixos, indicando que eventos de custo elevado são menos frequentes. A distribuição de gênero é relativamente equilibrada, com uma leve predominância de pacientes do sexo feminino (7 mil) em relação ao masculino (5 mil). Além disso, o cluster apresenta um foco em condições crônicas e tratamentos especializados, o que define o perfil desse grupo de usuários, que necessitam de cuidados regulares e monitoramento de saúde.\n"
   ]
  }
 ],
 "metadata": {
  "kernelspec": {
   "display_name": "Python 3",
   "language": "python",
   "name": "python3"
  },
  "language_info": {
   "codemirror_mode": {
    "name": "ipython",
    "version": 3
   },
   "file_extension": ".py",
   "mimetype": "text/x-python",
   "name": "python",
   "nbconvert_exporter": "python",
   "pygments_lexer": "ipython3",
   "version": "3.12.4"
  }
 },
 "nbformat": 4,
 "nbformat_minor": 2
}
