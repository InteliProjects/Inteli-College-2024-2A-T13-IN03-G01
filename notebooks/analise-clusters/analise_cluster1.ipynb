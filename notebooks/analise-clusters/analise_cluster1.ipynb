{
 "cells": [
  {
   "cell_type": "code",
   "execution_count": 1,
   "metadata": {},
   "outputs": [],
   "source": [
    "import pandas as pd # pandas\n",
    "import numpy as np # numpy\n",
    "import matplotlib.pyplot as plt  # matplotlib\n",
    "import seaborn as sns  # seaborn"
   ]
  },
  {
   "cell_type": "code",
   "execution_count": null,
   "metadata": {},
   "outputs": [],
   "source": [
    "df = pd.read_csv(\"../data_updated_clustered_kmeans.csv\")\n",
    "df['cluster'].value_counts()"
   ]
  },
  {
   "cell_type": "code",
   "execution_count": 15,
   "metadata": {},
   "outputs": [],
   "source": [
    "features_encoded = ['Faixa-Etária Nova Sinistro', 'Doença relacionada', 'Tipo de Serviço', 'Sexo Sinistro', 'Descricao Servico Sinistro', 'Valor Pago Sinistro']\n",
    "df_cluster1 = df[df['cluster'] == 1]"
   ]
  },
  {
   "cell_type": "markdown",
   "metadata": {},
   "source": [
    "### Features do Modelo"
   ]
  },
  {
   "cell_type": "markdown",
   "metadata": {},
   "source": [
    "#### Valor Pago Sinistro"
   ]
  },
  {
   "cell_type": "markdown",
   "metadata": {},
   "source": [
    "&emsp;Para avaliar o valor pago por sinistro, foram utilizadas estatísticas descritivas a fim de identificar dados relevantes para a análise."
   ]
  },
  {
   "cell_type": "code",
   "execution_count": null,
   "metadata": {},
   "outputs": [],
   "source": [
    "df_cluster1[\"Valor Pago Sinistro\"].describe()"
   ]
  },
  {
   "cell_type": "code",
   "execution_count": null,
   "metadata": {},
   "outputs": [],
   "source": [
    "sns.boxplot(x=df_cluster1['Valor Pago Sinistro'])\n",
    "plt.show()"
   ]
  },
  {
   "cell_type": "markdown",
   "metadata": {},
   "source": [
    "&emsp;A análise descritiva dos valores pagos por sinistro revela uma distribuição assimétrica, com a maioria dos sinistros concentrando-se em valores baixos. A mediana de R$ 31,58 indica que metade dos sinistros pagam até esse valor, enquanto a média mais elevada, de R$ 104,24, sugere que alguns sinistros de alto valor estão puxando essa média para cima. O desvio padrão de R$ 697,09 reflete a grande variação nos pagamentos, com o valor máximo atingindo R$ 68.000. Esses dados mostram que, embora a maioria dos sinistros tenha valores reduzidos, existe uma parcela significativa de sinistros com pagamentos muito elevados, o que contribui para a alta variabilidade."
   ]
  },
  {
   "cell_type": "markdown",
   "metadata": {},
   "source": [
    "#### Faixa-Etária"
   ]
  },
  {
   "cell_type": "code",
   "execution_count": null,
   "metadata": {},
   "outputs": [],
   "source": [
    "df_cluster1[\"Faixa-Etária Nova Sinistro\"].value_counts()"
   ]
  },
  {
   "cell_type": "code",
   "execution_count": null,
   "metadata": {},
   "outputs": [],
   "source": [
    "fig, ax = plt.subplots(1, 2, figsize=(30, 7))\n",
    "ax[0].hist(df_cluster1[features_encoded[0]], bins=50, width=0.4)\n",
    "ax[0].set_title('Faixa Etária - Cluster 5')\n",
    "ax[0].set_ylim(0, 8000)\n",
    "ax[1].hist(df[features_encoded[0]], bins=50, width=0.4)\n",
    "ax[1].set_title('Faixa Etária - Geral')\n",
    "ax[1].set_ylim(0, 20000)\n",
    "\n",
    "for axis in ax:\n",
    "    for tick in axis.get_xticklabels():\n",
    "        tick.set_rotation(45)  # Rotaciona os rótulos em 45 graus\n",
    "        tick.set_ha('right')    # Alinha os rótulos à direita\n",
    "\n",
    "\n",
    "plt.show()"
   ]
  },
  {
   "cell_type": "markdown",
   "metadata": {},
   "source": [
    "&emsp;A distribuição de sinistros no cluster revela uma concentração maior nas faixas \"0 a 18 anos\" (5.978 sinistros) e \"59 anos ou mais\" (3.978 sinistros), indicando que esse grupo inclui muitos indivíduos jovens e idosos, que demandam mais cuidados médicos. As faixas intermediárias (34 a 58 anos) também têm uma participação relevante, mas menor, enquanto os jovens adultos (19 a 33 anos) apresentam menos sinistros. Isso sugere que o cluster é dominado por extremos de idade, o que influencia os padrões de sinistros e pode direcionar estratégias de atenção para esses grupos."
   ]
  },
  {
   "cell_type": "markdown",
   "metadata": {},
   "source": [
    "#### Doença Relacionada"
   ]
  },
  {
   "cell_type": "code",
   "execution_count": null,
   "metadata": {},
   "outputs": [],
   "source": [
    "df_cluster1[\"Doença relacionada\"].value_counts()"
   ]
  },
  {
   "cell_type": "markdown",
   "metadata": {},
   "source": [
    "&emsp;A análise dos sinistros relacionados a doenças neste _cluster_ destaca a predominância de condições crônicas e de longo prazo, como Sífilis (436 casos), Transtorno do Espectro Autista (267 casos) e Glaucoma (258 casos). Também se observam ocorrências significativas de Alergias (160), Toxoplasmose (159) e Rubéola (134). Em contraste, doenças graves como Câncer (46 casos) e COVID-19 (13 casos) têm uma frequência menor, enquanto condições raras, como Asma e Artrite reumatoide, apresentam apenas 3 casos cada. Essa distribuição sugere que intervenções de saúde pública devem ser direcionadas para as condições mais comuns identificadas nesse grupo."
   ]
  },
  {
   "cell_type": "markdown",
   "metadata": {},
   "source": [
    "#### Sexo"
   ]
  },
  {
   "cell_type": "code",
   "execution_count": null,
   "metadata": {},
   "outputs": [],
   "source": [
    "df_cluster1[\"Sexo Sinistro\"].value_counts()"
   ]
  },
  {
   "cell_type": "markdown",
   "metadata": {},
   "source": [
    "&emsp;Com relação aos gêneros presentes no _cluster_ 1, a maioria é do gênero feminino, cerca de 18.060 ocorrências, representando cerca de 62% dos casos, embora a presença do gênero masculino também seja expressiva, com 10.641 casos que representam aproximadamente 38% dos acontecimentos. "
   ]
  },
  {
   "cell_type": "code",
   "execution_count": null,
   "metadata": {},
   "outputs": [],
   "source": [
    "fig, ax = plt.subplots(1, 2, figsize=(12, 6))\n",
    "\n",
    "counts_cluster = df_cluster1['Sexo Sinistro'].value_counts()\n",
    "counts_geral = df['Sexo Sinistro'].value_counts()\n",
    "\n",
    "ax[0].bar(counts_cluster.index, counts_cluster.values, color=['pink', 'blue'])\n",
    "ax[0].set_title('Cluster 3')\n",
    "ax[0].set_ylabel('Número de Sinistros')\n",
    "ax[0].set_ylim(0, counts_cluster.max() + 2000)  # Limite do eixo Y para melhor visualização\n",
    "\n",
    "# Gráfico de barras empilhadas (opcional)\n",
    "ax[1].bar(counts_geral.index, counts_geral.values, color=['pink', 'blue'])\n",
    "ax[1].set_title('Geral')\n",
    "ax[1].set_ylabel('Número de Sinistros')\n",
    "ax[1].set_ylim(0, counts_geral.max() + 2000)  # Limite do eixo Y para melhor visualização\n",
    "\n",
    "plt.tight_layout()\n",
    "plt.show()\n"
   ]
  },
  {
   "cell_type": "markdown",
   "metadata": {},
   "source": [
    "#### Tipo de serviço"
   ]
  },
  {
   "cell_type": "code",
   "execution_count": null,
   "metadata": {},
   "outputs": [],
   "source": [
    "df_cluster1[\"Tipo de Serviço\"].value_counts()"
   ]
  },
  {
   "cell_type": "markdown",
   "metadata": {},
   "source": [
    "&emsp;A análise dos tipos de serviço relacionados aos sinistros mostra uma clara predominância dos exames laboratoriais, com o **Exame Laboratorial Bioquímico** (9.203 ocorrências), seguido por **Exame Laboratorial** (5.997) e **Exame Laboratorial Hormonal** (3.555). Isso indica uma alta demanda por diagnósticos laboratoriais essenciais para o monitoramento da saúde. Os exames de imagem também são relevantes, totalizando 3.362 casos, e serviços terapêuticos como **Terapia** (3.477) e **Fisioterapia** (121) ressaltam a importância do tratamento e reabilitação. Em contrapartida, procedimentos cirúrgicos e exames menos comuns têm frequências baixas, o que sugere que a prioridade deve ser dada ao acesso a exames laboratoriais e terapias, fundamentais para a população atendida."
   ]
  },
  {
   "cell_type": "markdown",
   "metadata": {},
   "source": [
    "#### Descrição Serviço Sinistro"
   ]
  },
  {
   "cell_type": "code",
   "execution_count": null,
   "metadata": {},
   "outputs": [],
   "source": [
    "df_cluster1[\"Descricao Servico Sinistro\"].value_counts()"
   ]
  },
  {
   "cell_type": "markdown",
   "metadata": {},
   "source": [
    "&emsp;A análise dos serviços de sinistro em df_cluster1 mostra uma alta demanda por \"SESSAO DE PSICOTERAPIA INDIVIDUAL POR PSICOLOGO\" (2213 registros) e exames laboratoriais, como \"TIREOESTIMULANTE, HORMONIO (TSH)\" (1863 registros). Essa predominância indica uma preocupação com a saúde mental e condições metabólicas."
   ]
  },
  {
   "cell_type": "markdown",
   "metadata": {},
   "source": [
    "### Insights"
   ]
  },
  {
   "cell_type": "markdown",
   "metadata": {},
   "source": [
    "#### Sífilis"
   ]
  },
  {
   "cell_type": "code",
   "execution_count": null,
   "metadata": {},
   "outputs": [],
   "source": [
    "df_dsts = df_cluster1[df_cluster1[\"Doença relacionada\"] == \"Sífilis\"]\n",
    "pd.crosstab(index=df_dsts['Faixa-Etária Nova Sinistro'], columns='count')"
   ]
  },
  {
   "cell_type": "code",
   "execution_count": null,
   "metadata": {},
   "outputs": [],
   "source": [
    "counts = df_dsts['Faixa-Etária Nova Sinistro'].value_counts()\n",
    "\n",
    "base_color = '#000c38'\n",
    "\n",
    "colors = [plt.cm.Greens(1.0 - (i*0.7)/len(counts)) for i in range(len(counts))] \n",
    "\n",
    "bars = counts.plot(kind='bar', color=colors, width=0.7)\n",
    "\n",
    "plt.yticks(color=\"#001707\")\n",
    "plt.xticks(rotation=45, color=\"#001707\")\n",
    "\n",
    "plt.grid(True, axis='y', alpha=0.4, color=\"gray\")\n",
    "\n",
    "plt.title('Incidência de sinistros envolvendo sífilis', fontsize=12, color='#001707', pad=10)\n",
    "\n",
    "plt.xlabel('Faixa-etária', fontsize=10, color=\"#001707\")  \n",
    "plt.ylabel('Frequência', fontsize=10, color=\"#001707\")\n",
    "\n",
    "plt.show()"
   ]
  },
  {
   "cell_type": "markdown",
   "metadata": {},
   "source": [
    "&emsp;A distribuição dos sinistros relacionados à sífilis revela que a maior incidência ocorre entre adultos jovens e de meia-idade, especialmente na faixa de 34 a 38 anos (107 registros). As faixas de 29 a 33 anos (61 registros) e 39 a 43 anos (58 registros) também apresentam números significativos, enquanto as faixas mais jovens (0 a 18 anos) e mais velhas (54 anos ou mais) têm menor incidência."
   ]
  },
  {
   "cell_type": "markdown",
   "metadata": {},
   "source": [
    "#### Exame laboratorial bioquímico"
   ]
  },
  {
   "cell_type": "code",
   "execution_count": null,
   "metadata": {},
   "outputs": [],
   "source": [
    "df_exame_bioquimico = df_cluster1[df_cluster1['Tipo de Serviço'] == 'Exame Laboratorial Bioquímico']\n",
    "pd.crosstab(index=df_exame_bioquimico['Elegibilidade Sinistro'], columns='count')"
   ]
  },
  {
   "cell_type": "code",
   "execution_count": 77,
   "metadata": {},
   "outputs": [],
   "source": [
    "df_exame_bioquimico = df_exame_bioquimico.query(\"`Elegibilidade Sinistro` != 'DEPENDENTE'\")\n",
    "df_exame_bioquimico = df_exame_bioquimico.query(\"`Elegibilidade Sinistro` != 'AGREGADO'\")"
   ]
  },
  {
   "cell_type": "markdown",
   "metadata": {},
   "source": [
    "&emsp;A análise da elegibilidade dos sinistros revela que a maioria dos registros está associada a dependentes, com 5.553 sinistros, seguida por titulares, com 3.643 registros. Apenas 7 sinistros foram registrados como pertencentes a agregados. Com o intuito de compreender a hipótese de que o número de exames laboratoriais bioquímicos tem relação com a posição ocupada pelos colaboradores da Unipar, os dados de dependentes e agregados foram excluidos."
   ]
  },
  {
   "cell_type": "code",
   "execution_count": null,
   "metadata": {},
   "outputs": [],
   "source": [
    "pd.crosstab(index=df_exame_bioquimico['Descricao Servico Sinistro'], columns='count')"
   ]
  },
  {
   "cell_type": "markdown",
   "metadata": {},
   "source": [
    "&emsp;Os exames de transaminase piruvica (aminotransferase de alanina) e transaminase oxalacética (aminotransferase aspártica) são os mais frequentes, com 632 e 622 registros, respectivamente. Outros exames comuns incluem ureia (711 registros) e triglicerídeos (577 registros). Em contraste, alguns exames, como vitamina B3 e vitamina B2, têm contagens muito baixas, indicando que são menos solicitados. Essa distribuição destaca a relevância dos exames de função hepática e metabolismo, sugerindo uma demanda maior por monitoramento desses parâmetros de saúde em comparação a vitaminas e minerais, que são menos frequentemente avaliados."
   ]
  },
  {
   "cell_type": "markdown",
   "metadata": {},
   "source": [
    "#### Psicoterapia"
   ]
  },
  {
   "cell_type": "code",
   "execution_count": null,
   "metadata": {},
   "outputs": [],
   "source": [
    "df_psicoterapia = df_cluster1[df_cluster1[\"Descricao Servico Sinistro\"] == \"SESSAO DE PSICOTERAPIA INDIVIDUAL POR PSICOLOGO\"]\n",
    "pd.crosstab(index=df_psicoterapia['Faixa-Etária Nova Sinistro'], columns='count')"
   ]
  },
  {
   "cell_type": "code",
   "execution_count": null,
   "metadata": {},
   "outputs": [],
   "source": [
    "counts = df_psicoterapia['Faixa-Etária Nova Sinistro'].value_counts()\n",
    "\n",
    "base_color = '#000c38'\n",
    "\n",
    "colors = [plt.cm.Greens(1.0 - (i*0.7)/len(counts)) for i in range(len(counts))] \n",
    "\n",
    "bars = counts.plot(kind='bar', color=colors, width=0.7)\n",
    "\n",
    "plt.yticks(color=\"#001707\")\n",
    "plt.xticks(rotation=45, color=\"#001707\")\n",
    "\n",
    "plt.grid(True, axis='y', alpha=0.4, color=\"gray\")\n",
    "\n",
    "plt.title('Incidência de sinistros de psicoterapia', fontsize=12, color='#001707', pad=10)\n",
    "\n",
    "plt.xlabel('Faixa-etária', fontsize=10, color=\"#001707\")  \n",
    "plt.ylabel('Frequência', fontsize=10, color=\"#001707\")\n",
    "\n",
    "plt.show()"
   ]
  },
  {
   "cell_type": "markdown",
   "metadata": {},
   "source": [
    "&emsp;A análise dos sinistros relacionados a sessões de psicoterapia revela que a faixa etária mais afetada é a de 0 a 18 anos, com 507 registros, indicando uma significativa demanda por apoio psicológico entre os mais jovens. As faixas de 34 a 38 anos (412 registros) e 29 a 33 anos (271 registros) também apresentam um número considerável de sinistros, sugerindo que adultos jovens e de meia-idade estão igualmente buscando terapia. Em contraste, as faixas etárias mais velhas, como 54 a 58 anos (47 registros) e 59 anos ou mais (42 registros), mostram uma baixa frequência de sinistros. Essa distribuição sugere que a psicoterapia é mais buscada entre os jovens e adultos jovens, enquanto as pessoas mais velhas parecem ter uma procura menos frequente por esse tipo de atendimento."
   ]
  },
  {
   "cell_type": "markdown",
   "metadata": {},
   "source": [
    "## Conclusão"
   ]
  },
  {
   "cell_type": "markdown",
   "metadata": {},
   "source": [
    "&emsp;A análise descritiva do cluster revela uma concentração de sinistros em faixas etárias extremas, com predominância de indivíduos jovens (0 a 18 anos) e idosos (59 anos ou mais), que demandam mais cuidados médicos. A maioria dos sinistros envolve valores baixos, refletidos pela mediana de R$ 31,58, enquanto poucos sinistros de valores elevados aumentam a média. Há uma prevalência de condições crônicas, como Sífilis, Transtorno do Espectro Autista e Glaucoma, com menor incidência de doenças graves como Câncer e COVID-19. Além disso, o cluster é majoritariamente feminino e a maior parte dos sinistros está relacionada a exames laboratoriais e serviços terapêuticos, sugerindo que o foco dos cuidados deve ser em diagnóstico e reabilitação."
   ]
  }
 ],
 "metadata": {
  "kernelspec": {
   "display_name": "Python 3",
   "language": "python",
   "name": "python3"
  },
  "language_info": {
   "codemirror_mode": {
    "name": "ipython",
    "version": 3
   },
   "file_extension": ".py",
   "mimetype": "text/x-python",
   "name": "python",
   "nbconvert_exporter": "python",
   "pygments_lexer": "ipython3",
   "version": "3.12.0"
  }
 },
 "nbformat": 4,
 "nbformat_minor": 2
}
