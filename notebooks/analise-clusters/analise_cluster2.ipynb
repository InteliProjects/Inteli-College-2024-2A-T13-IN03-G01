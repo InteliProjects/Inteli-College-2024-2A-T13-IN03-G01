{
 "cells": [
  {
   "cell_type": "markdown",
   "metadata": {},
   "source": [
    "# Cluster 2"
   ]
  },
  {
   "cell_type": "code",
   "execution_count": 31,
   "metadata": {},
   "outputs": [],
   "source": [
    "import pandas as pd # pandas\n",
    "import numpy as np # numpy\n",
    "import matplotlib.pyplot as plt  # matplotlib\n",
    "import seaborn as sns  # seaborn\n",
    "from sklearn.decomposition import PCA\n",
    "from sklearn.cluster import KMeans"
   ]
  },
  {
   "cell_type": "code",
   "execution_count": 32,
   "metadata": {},
   "outputs": [],
   "source": [
    "df = pd.read_csv('../data_updated_clustered_kmeans.csv')"
   ]
  },
  {
   "cell_type": "code",
   "execution_count": null,
   "metadata": {},
   "outputs": [],
   "source": [
    "df['cluster'].value_counts()"
   ]
  },
  {
   "cell_type": "markdown",
   "metadata": {},
   "source": [
    "### Criação do PCA"
   ]
  },
  {
   "cell_type": "code",
   "execution_count": null,
   "metadata": {},
   "outputs": [],
   "source": [
    "features = [\"faixa-etaria_encoded\",\"valor-pago-sinistro_standardized\", \"descricao_servico_sinistro_encoded\", \"doenca_relacionadas_encoded\", \"sexo_encoded\"]\n",
    "X = df[features]\n",
    "\n",
    "kmeans = KMeans(n_clusters=6, random_state=0)\n",
    "kmeans.fit(X)\n",
    "df['clus'] = kmeans.predict(X)\n",
    "\n",
    "# Aplicar PCA para reduzir os dados a 2 componentes principais\n",
    "pca = PCA(n_components=2)\n",
    "X_pca = pca.fit_transform(X)\n",
    "\n",
    "# Adicionar os componentes principais ao DataFrame para visualização\n",
    "df['PCA1.2'] = X_pca[:, 0]\n",
    "df['PCA2.2'] = X_pca[:, 1]\n",
    "\n",
    "# Plotar os resultados em um gráfico de dispersão\n",
    "plt.figure(figsize=(20, 6))\n",
    "sns.scatterplot(x='PCA1.2', y='PCA2.2', hue='clus', data=df, palette='tab10')\n",
    "\n",
    "# # Plotar os centróides dos clusters em cima do gráfico PCA\n",
    "# centroids_pca = pca.transform(kmeans.cluster_centers_)\n",
    "# plt.scatter(centroids_pca[:, 0], centroids_pca[:, 1], s=300, c='red', marker='X', label='Centroides')\n",
    "\n",
    "plt.title('Visualização dos Clusters com PCA e KMeans')\n",
    "plt.xlabel('Componente Principal 1')\n",
    "plt.ylabel('Componente Principal 2')\n",
    "plt.legend()\n",
    "plt.show()"
   ]
  },
  {
   "cell_type": "markdown",
   "metadata": {},
   "source": [
    "### Introdução"
   ]
  },
  {
   "cell_type": "markdown",
   "metadata": {},
   "source": [
    "&emsp;Durante a elaboração do gráfico de dispersão pelo modelo K-means, foram selecionadas seis *features*: ```faixa-etaria_encoded```,```valor-pago-sinistro_standardized```, ```descricao_servico_sinistro_encoded```, ```doenca_relacionadas_encoded```, ```sexo_encoded```, ```tipo_servico_encoded```. Examinando os nomes citados, é possível perceber que a grande parte contém \"_encoded\" no final, mostrando que advêm de uma coluna categórica não numérica, a qual teve seus elementos codificados em números para poder ser utilizada em análises.\n",
    "\n",
    "&emsp;Embora as *features* utilizadas possam ser listadas, é difícil dizer o que cada eixo representa. Isso ocorre devido ao uso da técnica PCA (Análise de Componenetes Principais), reponsável por reduzir a dimensionalidade dos dados. Ela foi extremamente útil nesse caso, uma vez que cada colunas definida anteriormente seria uma dimensão, porém não é possível elaborar um gráfico 6D. Aplicando o PCA, foi possível reduzir a duas dimensões, sendo elas elaboradas a partir de uma combinação linear de todas as variáveis originais.\n",
    "\n",
    "&emsp;Para identificar o que cada eixo indica, foi elaborada uma análise de influência, ou seja, o quanto cada *feature* foi levada em consideração ao desenvolver os eixos dos gráficos:"
   ]
  },
  {
   "cell_type": "code",
   "execution_count": null,
   "metadata": {},
   "outputs": [],
   "source": [
    "loadings = pca.components_\n",
    "loadings_X = pd.DataFrame(loadings.T, columns=['PC1', 'PC2'], index=X.columns)\n",
    "print(loadings_X)"
   ]
  },
  {
   "cell_type": "markdown",
   "metadata": {},
   "source": [
    "&emsp;Ao investigar os resultados, se torna possível inferir que o eixo x é praticamente definido pelo serviço utilizado, e o eixo y pela doença ralacionada a esses serviços, ambas as *features* com aproximadamente 99% de influência. Essas informações facilitam a interpretação do gráfico, pois dispensam uma comparação profunda para a interpretação dos dados.\n",
    "\n",
    "&emsp;Ao analisar o eixo y, entretanto, será necessária uma atenção a mais. Considerando o resultado negativo apresentado pela coluna ```doenca_relacionadas_encoded``` para \"PCA2\", é importante ter em mente que as duas variáveis são inversamente relacionadas, ou seja, conforme uma aumenta, a outra diminui.\n",
    "\n",
    "&emsp;Nesse contexto, abaixo será relizada uma análise de cada cluster encontrado pelo modelo, identificando as características que os compõem:"
   ]
  },
  {
   "cell_type": "markdown",
   "metadata": {},
   "source": [
    "### Análise do Cluster 2"
   ]
  },
  {
   "cell_type": "markdown",
   "metadata": {},
   "source": [
    "&emsp;Agora, será analisado o *cluster* 2, o qual pode ser encontrado no início da região positiva do eixo x. Nele, são encontrados os elementos representados pelos valores de 29 a 332 no eixo x, e de -27 a 201 no eixo y, como pode ser visto abaixo:"
   ]
  },
  {
   "cell_type": "code",
   "execution_count": null,
   "metadata": {},
   "outputs": [],
   "source": [
    "c2 = df[df['cluster'] == 2]\n",
    "\n",
    "# plt.figure(figsize=(10, 6))\n",
    "sns.scatterplot(x=c2['PCA1'], y=c2['PCA2'])\n",
    "\n",
    "plt.xlabel('Componente Principal 1')\n",
    "plt.ylabel('Componente Principal 2')\n",
    "plt.title('Scatterplot do Cluster 2')\n",
    "plt.show()"
   ]
  },
  {
   "cell_type": "code",
   "execution_count": null,
   "metadata": {},
   "outputs": [],
   "source": [
    "# Filtrando apenas as linhas identificadas com \"2\" na coluna \"cluster\"\n",
    "cluster2 = df[df['cluster'] == 2]\n",
    "\n",
    "print(f'Valor máximo no eixo x: {cluster2['PCA1'].nlargest(1).values[0]}')\n",
    "print(f'Valor mínimo no eixo x: {cluster2['PCA1'].nsmallest(1).values[0]}', '\\n')\n",
    "print(f'Valor máximo no eixo y: {cluster2['PCA2'].nlargest(1).values[0]}')\n",
    "print(f'Valor mínimo no eixo y: {cluster2['PCA2'].nsmallest(1).values[0]}')"
   ]
  },
  {
   "cell_type": "markdown",
   "metadata": {},
   "source": [
    "&emsp;Esses valores englobam cerca de 301 serviços e 53 doenças, as quais serão explorados posteriormente."
   ]
  },
  {
   "cell_type": "code",
   "execution_count": null,
   "metadata": {},
   "outputs": [],
   "source": [
    "print(f'Número de serviços no eixo x: {cluster2['Descricao Servico Sinistro'].nunique()}')\n",
    "print(f'Número de doenças no eixo y: {cluster2['Doença relacionada'].nunique()}')"
   ]
  },
  {
   "cell_type": "markdown",
   "metadata": {},
   "source": [
    "&emsp;O gráfico a seguir mostra o dez serviços mais frequentes dentro do *cluster* 2:"
   ]
  },
  {
   "cell_type": "code",
   "execution_count": null,
   "metadata": {},
   "outputs": [],
   "source": [
    "servicos_top10 = c2['Descricao Servico Sinistro'].value_counts().nlargest(10)\n",
    "\n",
    "colors = ['brown', 'blue', 'orange', 'green', 'purple', 'red', 'pink', 'gray', 'yellow', 'cyan']  # 10 cores\n",
    "\n",
    "plt.figure(figsize=(10, 6))\n",
    "bars = sns.barplot(x=servicos_top10.index, y=servicos_top10.values, palette=colors, hue=servicos_top10.index)\n",
    "\n",
    "# Remove os rótulos do eixo X\n",
    "bars.set_xticklabels([''] * len(servicos_top10))\n",
    "\n",
    "# Coloca a legenda fora do gráfico (bbox_to_anchor define a posição fora do gráfico)\n",
    "handles = [plt.Rectangle((0, 0), 1, 1, color=colors[i]) for i in range(len(servicos_top10))]\n",
    "plt.legend(handles, servicos_top10.index, title='Serviços', loc='lower left', bbox_to_anchor=(1, 0.5), fontsize='small')\n",
    "\n",
    "# Adicionando rótulos e título\n",
    "plt.xlabel('Serviços')  # Remove o rótulo do eixo x\n",
    "plt.ylabel('Frenquência')\n",
    "plt.title('Dez Serviços mais Frequentes no Cluster 2')\n",
    "\n",
    "# plt.tight_layout()  # Ajusta para evitar cortes\n",
    "plt.show()\n"
   ]
  },
  {
   "cell_type": "markdown",
   "metadata": {},
   "source": [
    "&emsp;Como é possível notar, \"material\" é o serviço mais frenquente, alcançando pouco mais de 1600 ocorrências. Já para as doenças relacionadas, o gráfico pode ser visto abaixo:"
   ]
  },
  {
   "cell_type": "code",
   "execution_count": null,
   "metadata": {},
   "outputs": [],
   "source": [
    "doencas_top10 = c2['Doença relacionada'].value_counts().nlargest(10)\n",
    "\n",
    "colors = ['brown', 'blue', 'orange', 'green', 'purple', 'red', 'pink', 'gray', 'yellow', 'cyan']  # 10 cores\n",
    "\n",
    "plt.figure(figsize=(10, 6))\n",
    "bars = sns.barplot(x=doencas_top10.index, y=doencas_top10.values, palette=colors, hue=doencas_top10.index)\n",
    "\n",
    "# Remove os rótulos do eixo X\n",
    "bars.set_xticklabels([''] * len(doencas_top10))\n",
    "\n",
    "# Coloca a legenda fora do gráfico (bbox_to_anchor define a posição fora do gráfico)\n",
    "handles = [plt.Rectangle((0, 0), 1, 1, color=colors[i]) for i in range(len(doencas_top10))]\n",
    "plt.legend(handles, doencas_top10.index, title='Serviços', loc='upper right', fontsize='small')\n",
    "\n",
    "# Adicionando rótulos e título\n",
    "plt.xlabel('Doenças')  # Remove o rótulo do eixo x\n",
    "plt.ylabel('Frenquência')\n",
    "plt.title('Dez Doenças mais Frequentes no Cluster 2')\n",
    "\n",
    "# plt.tight_layout()  # Ajusta para evitar cortes\n",
    "plt.show()\n"
   ]
  },
  {
   "cell_type": "markdown",
   "metadata": {},
   "source": [
    "- Doenças Ósseas"
   ]
  },
  {
   "cell_type": "code",
   "execution_count": null,
   "metadata": {},
   "outputs": [],
   "source": [
    "copia = c2.copy()\n",
    "copia['Doença relacionada'] = copia['Doença relacionada'].replace(['Osteoartrite', 'Osteoartrite (Artrose)', 'Doenças osteomioarticulares'], 'Doenças Ósseas')\n",
    "copia[copia['Doença relacionada'] == 'Doenças Ósseas']['Descricao Servico Sinistro'].value_counts()"
   ]
  },
  {
   "cell_type": "markdown",
   "metadata": {},
   "source": [
    "- Doenças Cardiovasculares"
   ]
  },
  {
   "cell_type": "code",
   "execution_count": null,
   "metadata": {},
   "outputs": [],
   "source": [
    "copia['Doença relacionada'] = copia['Doença relacionada'].replace(['Hipertensão arterial', 'Insuficiência cardíaca', 'Diabetes'], 'Doenças Cardiovasculares')\n",
    "copia[copia['Doença relacionada'] == 'Doenças Cardiovasculares']['Descricao Servico Sinistro'].value_counts()"
   ]
  },
  {
   "cell_type": "markdown",
   "metadata": {},
   "source": [
    "&emsp;De forma discrepante dos valores apresentados na coluna de descrição serviço sinistro, doenças ósseas representam a maior parte dos dados, com doenças cardiovasculares, em menor número, em seguida. Isso se dá, pois os serviços mais utilizados do cluster não possuem doenças claramente relacionadas. Nesse contexto, é perceptível uma forte tendência do *cluster* para os casos de uma certa frequência de doenças ósseas, sendo uma informação útil para a análise do grupo. "
   ]
  },
  {
   "cell_type": "markdown",
   "metadata": {},
   "source": [
    "### Insights"
   ]
  },
  {
   "cell_type": "markdown",
   "metadata": {},
   "source": [
    "##### Entendimento das colunas "
   ]
  },
  {
   "cell_type": "markdown",
   "metadata": {},
   "source": [
    "As doenças cardiovasculares e ósseas foram algo que se destacou por serem as mais frequentes nesse conjunto de dados, por isso será feita uma análise em cima das colunas que categorizam o tipo de usuário do plano de saúde, que são a de sexo e a de faixa-etária."
   ]
  },
  {
   "cell_type": "code",
   "execution_count": null,
   "metadata": {},
   "outputs": [],
   "source": [
    "copia['Doença relacionada'].value_counts().head(5)"
   ]
  },
  {
   "cell_type": "markdown",
   "metadata": {},
   "source": [
    "Será feita agora uma análise sobre as proporções de cada sexo e faixa etária para depois, entender se as doenças cumprem as proporções de população esperada dentro do _cluster_ ou se existe alguma tendência de tipo de usuário para cada doença."
   ]
  },
  {
   "cell_type": "markdown",
   "metadata": {},
   "source": [
    "- Sexo:"
   ]
  },
  {
   "cell_type": "code",
   "execution_count": null,
   "metadata": {},
   "outputs": [],
   "source": [
    "proporcao_sexo_cluster2 = c2['Sexo Sinistro'].value_counts(normalize=True)\n",
    "proporcao_sexo_geral = df['Sexo Sinistro'].value_counts(normalize=True)\n",
    "\n",
    "print('Proporção de Homens e Mulheres no Cluster 2:')\n",
    "print(proporcao_sexo_cluster2)\n",
    "print('Proporção de Homens e Mulheres no Geral:')\n",
    "print(proporcao_sexo_geral)"
   ]
  },
  {
   "cell_type": "markdown",
   "metadata": {},
   "source": [
    "Como afirmado anteriormente, para o _cluster 2_ sexo não foi um fator significativo de divisão, algo que se comprova em função da proporção de homens X mulheres se manter nesse conjunto de dados. Uma proporção de aproximadamente 60/40 entre mulheres e homens. "
   ]
  },
  {
   "cell_type": "markdown",
   "metadata": {},
   "source": [
    "- Faixa-Etária:"
   ]
  },
  {
   "cell_type": "code",
   "execution_count": null,
   "metadata": {},
   "outputs": [],
   "source": [
    "proporcao_faixa_etaria_cluster2 = c2['Faixa-Etária Nova Sinistro'].value_counts(normalize=True)\n",
    "proporcao_faixa_etaria_geral = df['Faixa-Etária Nova Sinistro'].value_counts(normalize=True)\n",
    "proporcao_faiza_etaria = proporcao_faixa_etaria_cluster2 / proporcao_faixa_etaria_geral\n",
    "\n",
    "print('Proporção de Faixa Etária Geral X Cluster:')\n",
    "print(proporcao_faiza_etaria)"
   ]
  },
  {
   "cell_type": "markdown",
   "metadata": {},
   "source": [
    "Quanto mais próximo os valores de 1 quer dizer que a proporção dentro do _cluster_ se segue. A maioria das faixas segue o esperado, apesar das idades de 19 a 38 anos serem ligeiramente menores nesse conjunto de dados."
   ]
  },
  {
   "cell_type": "markdown",
   "metadata": {},
   "source": [
    "##### Doenças Cardiovasculares"
   ]
  },
  {
   "cell_type": "code",
   "execution_count": null,
   "metadata": {},
   "outputs": [],
   "source": [
    "df_cardiovascular = copia[copia['Doença relacionada'] == 'Doenças Cardiovasculares']\n",
    "sexo_cardiovascular = df_cardiovascular['Sexo Sinistro'].value_counts(normalize=True)\n",
    "\n",
    "print('Proporção de Homens e Mulheres nas doenças cardiovasculares:')\n",
    "print(sexo_cardiovascular)"
   ]
  },
  {
   "cell_type": "markdown",
   "metadata": {},
   "source": [
    "Pode-se ver que a proporção não se cumpre para as doenças cardiovasculares, se cumpre, na realidade, uma proporção de 52/48, logo, mesmo estando contido no conjunto de dados um valor superior de mulheres, ao observar isoladamente essas doenças o número de homens é proporcionalmente maior do que o esperado."
   ]
  },
  {
   "cell_type": "code",
   "execution_count": null,
   "metadata": {},
   "outputs": [],
   "source": [
    "ordem = ['0 a 18 anos', '19 a 23 anos', '24 a 28 anos', '29 a 33 anos', '34 a 38 anos', '39 a 43 anos', '44 a 48 anos', '49 a 53 anos', '54 a 58 anos', '59 anos ou mais']\n",
    "sns.catplot(x='Faixa-Etária Nova Sinistro', kind='count', data=df_cardiovascular, order=ordem, hue='Sexo Sinistro', width=0.5, height=7, aspect=1.75)\n",
    "plt.ylabel('Quantidade')\n",
    "plt.title('Faixa Etária - Doenças Cardiovasculares')\n",
    "plt.show()"
   ]
  },
  {
   "cell_type": "markdown",
   "metadata": {},
   "source": [
    "Ao visualizar o gráfico, infere-se que faixas-etárias mais elevadas tem uma maior tendência a possuir problemas cardiovasculares, principalmente a faixa de '59 anos ou mais'. Além disso, deve-se atentar também ao valor elevado de homens, mesmo sendo minoria no conjunto de dados do _cluster 2_, quando se observa as doenças cardiovasculares os homens se apresentam em pé de igualdade com as mulheres, sendo superiores em algumas faixas, algo que deve ser observado atentamente. Seguindo nesse tópico, os homens ainda superam as mulheres em diversas faixas, fazendo com que eles sejam maioria em alguns momentos, algo que deve passar por uma análise de entendimento, uma vez que se esperava que os homens tivessem uma tendência menor a ir ao médico, algo que não se cumpre nessa análise."
   ]
  },
  {
   "cell_type": "markdown",
   "metadata": {},
   "source": [
    "##### Doenças Ósseas"
   ]
  },
  {
   "cell_type": "code",
   "execution_count": null,
   "metadata": {},
   "outputs": [],
   "source": [
    "df_osseo = copia[copia['Doença relacionada'] == 'Doenças Ósseas']\n",
    "sexo_osseo = df_osseo['Sexo Sinistro'].value_counts(normalize=True)\n",
    "\n",
    "print('Proporção de Homens e Mulheres nas Doenças Ósseas:')\n",
    "print(sexo_osseo)"
   ]
  },
  {
   "cell_type": "markdown",
   "metadata": {},
   "source": [
    "Da mesma forma das informações vistas nas doenças cardiovasculares, a proporção de sexo do _cluster_ não se cumpre aqui. Com uma proporção de 52/48, aproximadamente, as doenças ósseas tem um número de homens acima do esperado para esse conjunto dados."
   ]
  },
  {
   "cell_type": "code",
   "execution_count": null,
   "metadata": {},
   "outputs": [],
   "source": [
    "ordem = ['0 a 18 anos', '19 a 23 anos', '24 a 28 anos', '29 a 33 anos', '34 a 38 anos', '39 a 43 anos', '44 a 48 anos', '49 a 53 anos', '54 a 58 anos', '59 anos ou mais']\n",
    "sns.catplot(x='Faixa-Etária Nova Sinistro', kind='count', data=df_osseo, order=ordem, hue='Sexo Sinistro', width=0.5, height=7, aspect=1.75)\n",
    "plt.ylabel('Quantidade')\n",
    "plt.title('Faixa Etária - Doenças Ósseas')\n",
    "plt.show()"
   ]
  },
  {
   "cell_type": "markdown",
   "metadata": {},
   "source": [
    "A primeira observação notável é que, na faixa etária de 49 a 53 anos, há uma predominância expressiva de casos em mulheres, superando bastante o número de ocorrências em homens. Isso sugere que, nesta faixa etária, as mulheres estão sendo mais afetadas por doenças ósseas do que os homens, uma vez que estão realizando mais exames relacionados à saúde ósseas.\n",
    "\n",
    "Além disso, pode se ver um claro aumento de quantidade de usos a partir dos 34 anos, ou seja, uma concentração maior nas faixas-etárias superiores, algo natural, uma vez que pessoas mais velhos tem uma tendência maior a ter problemas ósseas.\n",
    "\n",
    "Outra informação a se pontuar é de que apesar de estar em menor número na base e nos _cluster_ os homens, a partir de 34 anos (com exceção da faixa-etária de 49-53 anos), são superiores em todas as categorias. Mostrando que existe uma tendência maior aos homens mais velhos de fazerem mais atendimentos médicos relacionados a doenças ósseas.\n",
    "\n",
    "Por fim, é importante adicionar que a faixa-etária de 0-18 anos apresenta valores pequenos de problemas ósseos e quase totalmente composta por homens. Uma hipótese relacionada a isso é a de que a possível prática de esportes de maneira regular, feita majoritariamente por homens nessa idade, pode implicar em uma tendência ao uso do sinistro para problemas ósseos nessa idade.\n"
   ]
  },
  {
   "cell_type": "markdown",
   "metadata": {},
   "source": [
    "### Conclusão"
   ]
  },
  {
   "cell_type": "markdown",
   "metadata": {},
   "source": [
    "&emsp;Em suma, o *cluster* 2 apresenta um forte direcionamento para casos de doenças osteomioarticulares e cardiovasculares, além do uso de materiais hospitalares e compra de medicamentos, sendo os dois valores mais frequentes em suas respectivas categorias. Entretanto, eles não possuem grande correlação entre si, uma vez que os valores de descrição de sinsitro não representam nenhuma das doenças tidas como mais recorrentes. Apesar disso, existe essa recorrência de dois conjuntos de doenças específicas que são as ósseas e cardiovasculares.\n",
    "\n",
    "&emsp;Na faixa etária de 49 a 53 anos, as mulheres apresentam uma predominância expressiva de atendimentos relacionados a doenças ósseas, enquanto, a partir dos 34 anos, exceto entre 49 e 53 anos, os homens superam as mulheres, sugerindo uma maior procura por cuidados ósseos entre homens mais velhos. O aumento dos atendimentos é mais evidente em faixas etárias superiores, como esperado, devido à maior tendência de problemas ósseos com a idade. Na faixa de 0 a 18 anos, há poucos casos, quase todos entre homens, possivelmente ligados à prática esportiva regular.\n",
    "\n",
    "&emsp;Já ao analisar as doenças cardiovasculares, pode-se perceber que a maioria dos valores dos casos estão contidos na faixa-etária de mais de 59 anos, o que comprova o maior uso desses serviços por usuários mais velhos do plano."
   ]
  }
 ],
 "metadata": {
  "kernelspec": {
   "display_name": "Python 3",
   "language": "python",
   "name": "python3"
  },
  "language_info": {
   "codemirror_mode": {
    "name": "ipython",
    "version": 3
   },
   "file_extension": ".py",
   "mimetype": "text/x-python",
   "name": "python",
   "nbconvert_exporter": "python",
   "pygments_lexer": "ipython3",
   "version": "3.12.4"
  }
 },
 "nbformat": 4,
 "nbformat_minor": 2
}
