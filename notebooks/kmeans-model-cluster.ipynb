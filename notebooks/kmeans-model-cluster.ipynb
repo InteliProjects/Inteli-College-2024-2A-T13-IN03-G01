{
 "cells": [
  {
   "cell_type": "markdown",
   "metadata": {},
   "source": [
    "# Clusterização: K-Means"
   ]
  },
  {
   "cell_type": "markdown",
   "metadata": {},
   "source": [
    "Para mais informações de como rodar, veja o arquivo `orientacao.md`."
   ]
  },
  {
   "cell_type": "markdown",
   "metadata": {},
   "source": [
    "&ensp;O K-Means é um algoritimo não-supervisionado de clusterização, que tem como objetivo de agrupar dados semelhantes em grupos que tenham características específicas e similaridades entre si. Logo, sua utilização no projeto será voltada para a criação de diferentes grupos de usuários, com base nos dados presentes na base com sua utilização do plano de saúde."
   ]
  },
  {
   "cell_type": "markdown",
   "metadata": {},
   "source": [
    "- Importando das bibliotecas necessárias:"
   ]
  },
  {
   "cell_type": "code",
   "execution_count": 19,
   "metadata": {},
   "outputs": [],
   "source": [
    "import pandas as pd\n",
    "import matplotlib.pyplot as plt\n",
    "from sklearn.cluster import KMeans\n",
    "from sklearn.preprocessing import StandardScaler\n",
    "from sklearn.metrics import silhouette_score\n",
    "import seaborn as sns\n"
   ]
  },
  {
   "cell_type": "markdown",
   "metadata": {},
   "source": [
    "- Leitura e informações do Data Frame (esse dataframe estará disponível após a execução do notebook `preprocessamento.ipynb`):"
   ]
  },
  {
   "cell_type": "code",
   "execution_count": null,
   "metadata": {},
   "outputs": [],
   "source": [
    "df = pd.read_csv('./data_updated.csv')\n",
    "df.info()"
   ]
  },
  {
   "cell_type": "code",
   "execution_count": null,
   "metadata": {},
   "outputs": [],
   "source": [
    "df.describe()"
   ]
  },
  {
   "cell_type": "markdown",
   "metadata": {},
   "source": [
    "&emsp;O _Elbow Method_ é uma forma de encontrar a quantidade ideal de clusters (quanto vale K) para se utilizar no algoritimo K-Means, uma vez que o algoritimo precisa que a quantidade de clusters que serão designados seja definido previamente."
   ]
  },
  {
   "cell_type": "code",
   "execution_count": null,
   "metadata": {},
   "outputs": [],
   "source": [
    "\n",
    "numeric_columns = [\"faixa-etaria_encoded\",\"valor-pago-sinistro_standardized\", \"descricao_servico_sinistro_encoded\", \"doenca_relacionadas_encoded\", \"sexo_encoded\", \"tipo_servico_encoded\"]\n",
    "\n",
    "wcss = []\n",
    "for i in range(1, 11):\n",
    "    kmeans = KMeans(n_clusters=i, init='k-means++', max_iter=300, n_init=10, random_state=0)\n",
    "    kmeans.fit(df[numeric_columns])\n",
    "    wcss.append(kmeans.inertia_)\n",
    "\n",
    "plt.plot(range(1, 11), wcss)\n",
    "plt.title('Elbow Method')\n",
    "plt.xlabel('Número de clusters')\n",
    "plt.ylabel('WCSS')\n",
    "plt.grid()\n",
    "plt.show()"
   ]
  },
  {
   "cell_type": "markdown",
   "metadata": {},
   "source": [
    "&emsp; O código realiza a criação de um modelo K-Means para agrupar os dados numéricos em 4 clusters, sendo que a quantidade de clusters foi definida anteriormente a partir do Elbow Method, uma técnica que auxilia na escolha do valor ideal de K. Após o treinamento do modelo, cada ponto é classificado em um dos 4 clusters, e os centros de cada cluster são exibidos. Além disso, a quantidade de elementos pertencentes a cada cluster é calculada e apresentada no final."
   ]
  },
  {
   "cell_type": "code",
   "execution_count": null,
   "metadata": {},
   "outputs": [],
   "source": [
    "from sklearn.cluster import KMeans\n",
    "\n",
    "kmeans = KMeans(n_clusters=6, random_state=0, max_iter=100000)\n",
    "numeric_cols = df[numeric_columns]\n",
    "\n",
    "X = numeric_cols\n",
    "kmeans.fit(X)\n",
    "\n",
    "df['cluster'] = kmeans.predict(X)\n",
    "print(kmeans.cluster_centers_)\n",
    "df[\"cluster\"].value_counts()"
   ]
  },
  {
   "cell_type": "markdown",
   "metadata": {},
   "source": [
    "&emsp; O código aplica PCA, uma técnica de redução dimensional usada para simplificar grandes conjuntos de dados, preservando o máximo de variabilidade possível. O PCA transforma os dados originais em novas variáveis chamadas componentes principais, que são combinações lineares das variáveis originais.\n",
    "\n",
    "&emsp; Dessa forma, os dados são reduzidos a 2 componentes principais para facilitar a visualização dos clusters formados pelo K-Means. Esses componentes são adicionados ao DataFrame e usados para criar um gráfico de dispersão, onde os pontos são coloridos de acordo com o cluster. Os centróides dos clusters também são plotados no gráfico para mostrar os centros dos grupos como pode ser obeservado no gráfico."
   ]
  },
  {
   "cell_type": "code",
   "execution_count": null,
   "metadata": {},
   "outputs": [],
   "source": [
    "from sklearn.decomposition import PCA\n",
    "\n",
    "# Aplicar PCA para reduzir os dados a 2 componentes principais\n",
    "pca = PCA(n_components=2)\n",
    "X_pca = pca.fit_transform(X)\n",
    "\n",
    "# Adicionar os componentes principais ao DataFrame para visualização\n",
    "df['PCA1'] = X_pca[:, 0]\n",
    "df['PCA2'] = X_pca[:, 1]\n",
    "\n",
    "# Plotar os resultados em um gráfico de dispersão\n",
    "plt.figure(figsize=(20, 6))\n",
    "sns.scatterplot(x='PCA1', y='PCA2', hue='cluster', data=df, palette='viridis', style='cluster', markers=['o', 's', '^'])\n",
    "\n",
    "# Plotar os centróides dos clusters em cima do gráfico PCA\n",
    "centroids_pca = pca.transform(kmeans.cluster_centers_)\n",
    "plt.scatter(centroids_pca[:, 0], centroids_pca[:, 1], s=300, c='red', marker='X', label='Centroides')\n",
    "\n",
    "plt.title('Visualização dos Clusters com PCA e KMeans')\n",
    "plt.xlabel('Componente Principal 1')\n",
    "plt.ylabel('Componente Principal 2')\n",
    "plt.legend()\n",
    "plt.show()"
   ]
  },
  {
   "cell_type": "markdown",
   "metadata": {},
   "source": [
    "\n",
    "&emsp; Este código verifica se algumas colunas estão presentes no DataFrame df. Se estiverem, ele gera um gráfico de dispersão (scatter plot) onde os dados são coloridos de acordo com os clusters definidos pelo K-Means. O gráfico exibe a relação entre a quantidade e o valor pago do sinistro, facilitando a visualização dos agrupamentos nos dados. Caso as colunas não estejam presentes, é exibida uma mensagem informando que as colunas necessárias estão ausentes."
   ]
  },
  {
   "cell_type": "code",
   "execution_count": null,
   "metadata": {},
   "outputs": [],
   "source": [
    "\n",
    "# Verificar se as colunas existem no DataFrame\n",
    "if 'quantidade_standardized' in df.columns and 'valor-pago-sinistro_standardized' in df.columns and 'cluster' in df.columns:\n",
    "    plt.figure(figsize=(10, 6))\n",
    "\n",
    "    # Scatter plot com coloração pelos clusters\n",
    "    sns.scatterplot(\n",
    "        x=\"quantidade_standardized\",\n",
    "        y=\"valor-pago-sinistro_standardized\",\n",
    "        hue='cluster',\n",
    "        data=df,\n",
    "        palette='viridis',\n",
    "        s=100\n",
    "    )\n",
    "\n",
    "    plt.title('Clusters de KMeans')\n",
    "    plt.xlabel('Quantidade')\n",
    "    plt.ylabel('Valor Pago Sinistro')\n",
    "    plt.legend()\n",
    "    plt.show()\n",
    "else:\n",
    "    print(\"As colunas necessárias não estão presentes no DataFrame.\")"
   ]
  },
  {
   "cell_type": "markdown",
   "metadata": {},
   "source": [
    "&emsp; Este código cria uma visualização 3D dos clusters formados pelo K-Means usando Plotly Express. Ele começa criando um DataFrame df_clusters com as colunas padronizadas e a coluna de clusters. Em seguida, gera um gráfico de dispersão com três dimensões onde as coordenadas são baseadas em três variáveis padronizadas: 'faixa-etaria_encoded_standardized', 'valor-pago-sinistro_standardized', e 'descricao_servico_sinistro_encoded_standardized'."
   ]
  },
  {
   "cell_type": "code",
   "execution_count": null,
   "metadata": {},
   "outputs": [],
   "source": [
    "import plotly.express as px\n",
    "import pandas as pd\n",
    "\n",
    "df_clusters = pd.DataFrame({\n",
    "    'faixa-etaria_encoded': X['faixa-etaria_encoded'],\n",
    "    'valor-pago-sinistro_standardized': X['valor-pago-sinistro_standardized'],\n",
    "    'descricao_servico_sinistro_encoded': X['descricao_servico_sinistro_encoded'],\n",
    "    'doenca_relacionadas_encoded': X['doenca_relacionadas_encoded'],\n",
    "    'sexo_encoded': X['sexo_encoded'],\n",
    "    'tipo_servico_encoded': X['tipo_servico_encoded'],\n",
    "    'cluster': df['cluster']\n",
    "})\n",
    "\n",
    "fig = px.scatter_3d(\n",
    "    df_clusters,\n",
    "    x='faixa-etaria_encoded',\n",
    "    y='valor-pago-sinistro_standardized',\n",
    "    z='descricao_servico_sinistro_encoded',\n",
    "    color='cluster',\n",
    "    title='Clusters de KMeans em 3D',\n",
    "    opacity=1.0,\n",
    "    size_max=10\n",
    ")\n",
    "\n",
    "fig.show()"
   ]
  },
  {
   "cell_type": "markdown",
   "metadata": {},
   "source": [
    "&emsp; Este código cria uma matriz de dispersão (scatter matrix) usando Plotly Express para visualizar a relação entre várias variáveis dos clusters. Cada ponto é colorido de acordo com o cluster a que pertence, facilitando a comparação das variáveis dentro de cada cluster.\n",
    "\n"
   ]
  },
  {
   "cell_type": "code",
   "execution_count": null,
   "metadata": {},
   "outputs": [],
   "source": [
    "fig_matrix = px.scatter_matrix(\n",
    "    df_clusters,\n",
    "    dimensions=['descricao_servico_sinistro_encoded', 'faixa-etaria_encoded', 'valor-pago-sinistro_standardized', 'tipo_servico_encoded', 'sexo_encoded', 'doenca_relacionadas_encoded'],\n",
    "    color='cluster',\n",
    "    title='Scatter Matrix entre Variáveis por Cluster',\n",
    "    labels={   # Definir rótulos claros para as variáveis\n",
    "        'descricao_servico_sinistro_encoded': 'Código Serviço',\n",
    "        'faixa-etaria_encoded': 'Faixa Etária',\n",
    "        'valor-pago-sinistro_standardized': 'Valor Pago',\n",
    "        'tipo_servico_encoded': 'Tipo Serviço',\n",
    "        'sexo_encoded': 'Sexo',\n",
    "        'doenca_relacionadas_encoded': 'Doenças Relacionadas'\n",
    "    },\n",
    "    height=900,  # Aumentar a altura para reduzir sobreposição\n",
    "    width=900    # Aumentar a largura\n",
    ")\n",
    "\n",
    "# Ajustando o layout para evitar sobreposição das labels\n",
    "fig_matrix.update_layout(\n",
    "    title={'x':0.5},  # Centraliza o título\n",
    "    font=dict(size=10),  # Reduz o tamanho da fonte\n",
    "    margin=dict(l=50, r=50, b=100, t=100),  # Ajusta as margens\n",
    "    autosize=False\n",
    ")\n",
    "\n",
    "# Mostrar o gráfico\n",
    "fig_matrix.show()\n"
   ]
  },
  {
   "cell_type": "markdown",
   "metadata": {},
   "source": [
    "- Exportando o cluster para um arquivo CSV:"
   ]
  },
  {
   "cell_type": "code",
   "execution_count": 28,
   "metadata": {},
   "outputs": [],
   "source": [
    "import pickle\n",
    "df.to_csv('./data_updated_clustered_kmeans.csv', index=False)\n",
    "pickle.dump(kmeans, open('./assets/kmeans_model.pkl', 'wb'))"
   ]
  }
 ],
 "metadata": {
  "kernelspec": {
   "display_name": "Python 3",
   "language": "python",
   "name": "python3"
  },
  "language_info": {
   "codemirror_mode": {
    "name": "ipython",
    "version": 3
   },
   "file_extension": ".py",
   "mimetype": "text/x-python",
   "name": "python",
   "nbconvert_exporter": "python",
   "pygments_lexer": "ipython3",
   "version": "3.12.3"
  }
 },
 "nbformat": 4,
 "nbformat_minor": 2
}
